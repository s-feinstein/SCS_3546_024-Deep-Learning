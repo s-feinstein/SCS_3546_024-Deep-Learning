{
 "cells": [
  {
   "cell_type": "markdown",
   "id": "92ecef40",
   "metadata": {
    "papermill": {
     "duration": 0.015049,
     "end_time": "2023-04-10T14:53:44.513289",
     "exception": false,
     "start_time": "2023-04-10T14:53:44.498240",
     "status": "completed"
    },
    "tags": []
   },
   "source": [
    "# For each patient visit where a protein/peptide sample was taken you will estimate future UPDR scores: \n",
    " * ## for that visit (month 0)\n",
    " * ## for 6 months later\n",
    " * ## for 12 months later\n",
    " * ## for 24 months later\n",
    " \n",
    "Predictions for any visits that didn't ultimately take place are ignored."
   ]
  },
  {
   "cell_type": "markdown",
   "id": "10a61ca3",
   "metadata": {
    "papermill": {
     "duration": 0.012988,
     "end_time": "2023-04-10T14:53:44.539670",
     "exception": false,
     "start_time": "2023-04-10T14:53:44.526682",
     "status": "completed"
    },
    "tags": []
   },
   "source": [
    "## This project has multiple fascinating features and challenges, including:\n",
    " - Reusing base layers of another model I also train\n",
    " - Multi-output models (16 outputs!)\n",
    "\n",
    "## Approach\n",
    "\n",
    " 1. **Ingest and format data**\n",
    " 2. **Pre-train a multi-output model using `supplemental_clinical_data.csv`**\n",
    " \n",
    " Since there is no protein/peptide information associated with the supplemental clinical data, we can use this to train a model on the typical progression of Parkinsons (as measured by UPDR scores). It will only predict scores given the time since initial visit. This will give us base layers that we can reuse when predicting progression based on proteins/peptides.\n",
    " 3. **Train a multi-output model using `train_clinical_data`**\n",
    " \n",
    " Our goal in both steps 2 and 3 is to train a single model that can predict UPDR scores at months 0, 6, 12, and 24. I'll use a multi-output variable approach because each UPDR score has 4 sections, predicting a total of 16 outputs!"
   ]
  },
  {
   "cell_type": "code",
   "execution_count": 1,
   "id": "a894ac48",
   "metadata": {
    "execution": {
     "iopub.execute_input": "2023-04-10T14:53:44.570162Z",
     "iopub.status.busy": "2023-04-10T14:53:44.569293Z",
     "iopub.status.idle": "2023-04-10T14:53:44.579578Z",
     "shell.execute_reply": "2023-04-10T14:53:44.578673Z"
    },
    "papermill": {
     "duration": 0.027163,
     "end_time": "2023-04-10T14:53:44.581755",
     "exception": false,
     "start_time": "2023-04-10T14:53:44.554592",
     "status": "completed"
    },
    "tags": []
   },
   "outputs": [],
   "source": [
    "# This is becoming pretty computationally heavy, so let's simplify \n",
    "# the notebook so it doesn't have to rerun all each time\n",
    "rerun_all = False"
   ]
  },
  {
   "cell_type": "markdown",
   "id": "ab1b9b58",
   "metadata": {
    "papermill": {
     "duration": 0.01297,
     "end_time": "2023-04-10T14:53:44.608572",
     "exception": false,
     "start_time": "2023-04-10T14:53:44.595602",
     "status": "completed"
    },
    "tags": []
   },
   "source": [
    "## Data Ingestion"
   ]
  },
  {
   "cell_type": "code",
   "execution_count": 2,
   "id": "dd29cb6d",
   "metadata": {
    "execution": {
     "iopub.execute_input": "2023-04-10T14:53:44.636401Z",
     "iopub.status.busy": "2023-04-10T14:53:44.635570Z",
     "iopub.status.idle": "2023-04-10T14:53:45.303488Z",
     "shell.execute_reply": "2023-04-10T14:53:45.302378Z"
    },
    "papermill": {
     "duration": 0.685085,
     "end_time": "2023-04-10T14:53:45.306628",
     "exception": false,
     "start_time": "2023-04-10T14:53:44.621543",
     "status": "completed"
    },
    "tags": []
   },
   "outputs": [
    {
     "name": "stdout",
     "output_type": "stream",
     "text": [
      "/kaggle/input/amp-parkinsons-disease-progression-prediction/train_proteins.csv\n",
      "/kaggle/input/amp-parkinsons-disease-progression-prediction/train_clinical_data.csv\n",
      "/kaggle/input/amp-parkinsons-disease-progression-prediction/public_timeseries_testing_util.py\n",
      "/kaggle/input/amp-parkinsons-disease-progression-prediction/supplemental_clinical_data.csv\n",
      "/kaggle/input/amp-parkinsons-disease-progression-prediction/train_peptides.csv\n",
      "/kaggle/input/amp-parkinsons-disease-progression-prediction/amp_pd_peptide/competition.cpython-37m-x86_64-linux-gnu.so\n",
      "/kaggle/input/amp-parkinsons-disease-progression-prediction/amp_pd_peptide/__init__.py\n",
      "/kaggle/input/amp-parkinsons-disease-progression-prediction/example_test_files/sample_submission.csv\n",
      "/kaggle/input/amp-parkinsons-disease-progression-prediction/example_test_files/test_proteins.csv\n",
      "/kaggle/input/amp-parkinsons-disease-progression-prediction/example_test_files/test_peptides.csv\n",
      "/kaggle/input/amp-parkinsons-disease-progression-prediction/example_test_files/test.csv\n"
     ]
    }
   ],
   "source": [
    "import numpy as np\n",
    "import pandas as pd\n",
    "import sklearn\n",
    "from pathlib import Path\n",
    "\n",
    "import os\n",
    "for dirname, _, filenames in os.walk('/kaggle/input'):\n",
    "    for filename in filenames:\n",
    "        print(os.path.join(dirname, filename))"
   ]
  },
  {
   "cell_type": "code",
   "execution_count": 3,
   "id": "2ffe3600",
   "metadata": {
    "execution": {
     "iopub.execute_input": "2023-04-10T14:53:45.334809Z",
     "iopub.status.busy": "2023-04-10T14:53:45.334478Z",
     "iopub.status.idle": "2023-04-10T14:53:45.381077Z",
     "shell.execute_reply": "2023-04-10T14:53:45.379742Z"
    },
    "papermill": {
     "duration": 0.063284,
     "end_time": "2023-04-10T14:53:45.383331",
     "exception": false,
     "start_time": "2023-04-10T14:53:45.320047",
     "status": "completed"
    },
    "tags": []
   },
   "outputs": [
    {
     "name": "stdout",
     "output_type": "stream",
     "text": [
      "(2615, 7)\n",
      "          patient_id  visit_month  updrs_1  updrs_2  updrs_3  updrs_4  \\\n",
      "visit_id                                                                \n",
      "55_0              55            0     10.0      6.0     15.0      NaN   \n",
      "55_3              55            3     10.0      7.0     25.0      NaN   \n",
      "55_6              55            6      8.0     10.0     34.0      NaN   \n",
      "55_9              55            9      8.0      9.0     30.0      0.0   \n",
      "55_12             55           12     10.0     10.0     41.0      0.0   \n",
      "55_18             55           18      7.0     13.0     38.0      0.0   \n",
      "55_24             55           24     16.0      9.0     49.0      0.0   \n",
      "55_30             55           30     14.0     13.0     49.0      0.0   \n",
      "55_36             55           36     17.0     18.0     51.0      0.0   \n",
      "55_42             55           42     12.0     20.0     41.0      0.0   \n",
      "\n",
      "         upd23b_clinical_state_on_medication  \n",
      "visit_id                                      \n",
      "55_0                                     NaN  \n",
      "55_3                                     NaN  \n",
      "55_6                                     NaN  \n",
      "55_9                                      On  \n",
      "55_12                                     On  \n",
      "55_18                                     On  \n",
      "55_24                                     On  \n",
      "55_30                                     On  \n",
      "55_36                                     On  \n",
      "55_42                                     On  \n",
      "(2223, 7)\n",
      "          patient_id  visit_month  updrs_1  updrs_2  updrs_3  updrs_4  \\\n",
      "visit_id                                                                \n",
      "35_0              35            0      5.0      3.0     16.0      0.0   \n",
      "35_36             35           36      6.0      4.0     20.0      0.0   \n",
      "75_0              75            0      4.0      6.0     26.0      0.0   \n",
      "75_36             75           36      1.0      8.0     38.0      0.0   \n",
      "155_0            155            0      NaN      NaN      0.0      NaN   \n",
      "337_0            337            0      5.0      7.0      6.0      0.0   \n",
      "337_36           337           36      8.0      7.0      8.0      0.0   \n",
      "527_0            527            0      6.0      2.0      9.0      0.0   \n",
      "527_36           527           36      2.0     18.0     22.0      0.0   \n",
      "557_0            557            0      5.0      6.0     22.0      0.0   \n",
      "\n",
      "         upd23b_clinical_state_on_medication  \n",
      "visit_id                                      \n",
      "35_0                                     NaN  \n",
      "35_36                                    NaN  \n",
      "75_0                                     NaN  \n",
      "75_36                                     On  \n",
      "155_0                                    NaN  \n",
      "337_0                                     On  \n",
      "337_36                                    On  \n",
      "527_0                                    NaN  \n",
      "527_36                                    On  \n",
      "557_0                                    NaN  \n",
      "\n",
      "Union of both clinical data sets:\n",
      "(4838, 7)\n"
     ]
    }
   ],
   "source": [
    "# Pull in all clinical data\n",
    "\n",
    "INPUTS_DIR = Path('/kaggle/input/amp-parkinsons-disease-progression-prediction/') \n",
    "\n",
    "# train_clinical_data.csv\n",
    "clinical_df = pd.read_csv(\n",
    "    INPUTS_DIR / 'train_clinical_data.csv',\n",
    "    index_col='visit_id',\n",
    ")\n",
    "print(clinical_df.shape)\n",
    "print(clinical_df.head(n=10))\n",
    "\n",
    "# supplemental_clinical_data.csv\n",
    "supp_clinical_df = pd.read_csv(\n",
    "    INPUTS_DIR / 'supplemental_clinical_data.csv',\n",
    "    index_col='visit_id',\n",
    ")\n",
    "print(supp_clinical_df.shape)\n",
    "print(supp_clinical_df.head(n=10))\n",
    "\n",
    "# concat both to a single dataframe\n",
    "all_clinical_df = pd.concat([clinical_df, supp_clinical_df])\n",
    "\n",
    "print(\"\\nUnion of both clinical data sets:\")\n",
    "print(all_clinical_df.shape)"
   ]
  },
  {
   "cell_type": "code",
   "execution_count": 4,
   "id": "1247cbee",
   "metadata": {
    "execution": {
     "iopub.execute_input": "2023-04-10T14:53:45.412265Z",
     "iopub.status.busy": "2023-04-10T14:53:45.411972Z",
     "iopub.status.idle": "2023-04-10T14:53:46.759548Z",
     "shell.execute_reply": "2023-04-10T14:53:46.757619Z"
    },
    "papermill": {
     "duration": 1.364586,
     "end_time": "2023-04-10T14:53:46.762109",
     "exception": false,
     "start_time": "2023-04-10T14:53:45.397523",
     "status": "completed"
    },
    "tags": []
   },
   "outputs": [
    {
     "name": "stdout",
     "output_type": "stream",
     "text": [
      "(232741, 5)\n",
      "(981834, 6)\n"
     ]
    },
    {
     "data": {
      "text/html": [
       "<div>\n",
       "<style scoped>\n",
       "    .dataframe tbody tr th:only-of-type {\n",
       "        vertical-align: middle;\n",
       "    }\n",
       "\n",
       "    .dataframe tbody tr th {\n",
       "        vertical-align: top;\n",
       "    }\n",
       "\n",
       "    .dataframe thead th {\n",
       "        text-align: right;\n",
       "    }\n",
       "</style>\n",
       "<table border=\"1\" class=\"dataframe\">\n",
       "  <thead>\n",
       "    <tr style=\"text-align: right;\">\n",
       "      <th></th>\n",
       "      <th>visit_id</th>\n",
       "      <th>visit_month</th>\n",
       "      <th>patient_id</th>\n",
       "      <th>UniProt</th>\n",
       "      <th>Peptide</th>\n",
       "      <th>PeptideAbundance</th>\n",
       "    </tr>\n",
       "  </thead>\n",
       "  <tbody>\n",
       "    <tr>\n",
       "      <th>0</th>\n",
       "      <td>55_0</td>\n",
       "      <td>0</td>\n",
       "      <td>55</td>\n",
       "      <td>O00391</td>\n",
       "      <td>NEQEQPLGQWHLS</td>\n",
       "      <td>11254.3</td>\n",
       "    </tr>\n",
       "    <tr>\n",
       "      <th>1</th>\n",
       "      <td>55_0</td>\n",
       "      <td>0</td>\n",
       "      <td>55</td>\n",
       "      <td>O00533</td>\n",
       "      <td>GNPEPTFSWTK</td>\n",
       "      <td>102060.0</td>\n",
       "    </tr>\n",
       "    <tr>\n",
       "      <th>2</th>\n",
       "      <td>55_0</td>\n",
       "      <td>0</td>\n",
       "      <td>55</td>\n",
       "      <td>O00533</td>\n",
       "      <td>IEIPSSVQQVPTIIK</td>\n",
       "      <td>174185.0</td>\n",
       "    </tr>\n",
       "    <tr>\n",
       "      <th>3</th>\n",
       "      <td>55_0</td>\n",
       "      <td>0</td>\n",
       "      <td>55</td>\n",
       "      <td>O00533</td>\n",
       "      <td>KPQSAVYSTGSNGILLC(UniMod_4)EAEGEPQPTIK</td>\n",
       "      <td>27278.9</td>\n",
       "    </tr>\n",
       "    <tr>\n",
       "      <th>4</th>\n",
       "      <td>55_0</td>\n",
       "      <td>0</td>\n",
       "      <td>55</td>\n",
       "      <td>O00533</td>\n",
       "      <td>SMEQNGPGLEYR</td>\n",
       "      <td>30838.7</td>\n",
       "    </tr>\n",
       "    <tr>\n",
       "      <th>5</th>\n",
       "      <td>55_0</td>\n",
       "      <td>0</td>\n",
       "      <td>55</td>\n",
       "      <td>O00533</td>\n",
       "      <td>TLKIENVSYQDKGNYR</td>\n",
       "      <td>23216.5</td>\n",
       "    </tr>\n",
       "    <tr>\n",
       "      <th>6</th>\n",
       "      <td>55_0</td>\n",
       "      <td>0</td>\n",
       "      <td>55</td>\n",
       "      <td>O00533</td>\n",
       "      <td>VIAVNEVGR</td>\n",
       "      <td>170878.0</td>\n",
       "    </tr>\n",
       "    <tr>\n",
       "      <th>7</th>\n",
       "      <td>55_0</td>\n",
       "      <td>0</td>\n",
       "      <td>55</td>\n",
       "      <td>O00533</td>\n",
       "      <td>VMTPAVYAPYDVK</td>\n",
       "      <td>148771.0</td>\n",
       "    </tr>\n",
       "    <tr>\n",
       "      <th>8</th>\n",
       "      <td>55_0</td>\n",
       "      <td>0</td>\n",
       "      <td>55</td>\n",
       "      <td>O00533</td>\n",
       "      <td>VNGSPVDNHPFAGDVVFPR</td>\n",
       "      <td>55202.1</td>\n",
       "    </tr>\n",
       "    <tr>\n",
       "      <th>9</th>\n",
       "      <td>55_0</td>\n",
       "      <td>0</td>\n",
       "      <td>55</td>\n",
       "      <td>O00584</td>\n",
       "      <td>ELDLNSVLLK</td>\n",
       "      <td>27229.3</td>\n",
       "    </tr>\n",
       "  </tbody>\n",
       "</table>\n",
       "</div>"
      ],
      "text/plain": [
       "  visit_id  visit_month  patient_id UniProt  \\\n",
       "0     55_0            0          55  O00391   \n",
       "1     55_0            0          55  O00533   \n",
       "2     55_0            0          55  O00533   \n",
       "3     55_0            0          55  O00533   \n",
       "4     55_0            0          55  O00533   \n",
       "5     55_0            0          55  O00533   \n",
       "6     55_0            0          55  O00533   \n",
       "7     55_0            0          55  O00533   \n",
       "8     55_0            0          55  O00533   \n",
       "9     55_0            0          55  O00584   \n",
       "\n",
       "                                  Peptide  PeptideAbundance  \n",
       "0                           NEQEQPLGQWHLS           11254.3  \n",
       "1                             GNPEPTFSWTK          102060.0  \n",
       "2                         IEIPSSVQQVPTIIK          174185.0  \n",
       "3  KPQSAVYSTGSNGILLC(UniMod_4)EAEGEPQPTIK           27278.9  \n",
       "4                            SMEQNGPGLEYR           30838.7  \n",
       "5                        TLKIENVSYQDKGNYR           23216.5  \n",
       "6                               VIAVNEVGR          170878.0  \n",
       "7                           VMTPAVYAPYDVK          148771.0  \n",
       "8                     VNGSPVDNHPFAGDVVFPR           55202.1  \n",
       "9                              ELDLNSVLLK           27229.3  "
      ]
     },
     "execution_count": 4,
     "metadata": {},
     "output_type": "execute_result"
    }
   ],
   "source": [
    "# Pull in protein data\n",
    "proteins_df = pd.read_csv(\n",
    "    INPUTS_DIR / 'train_proteins.csv',\n",
    ")\n",
    "print(proteins_df.shape)\n",
    "proteins_df.head(n=10)\n",
    "\n",
    "# Pull in peptide data\n",
    "peptide_df = pd.read_csv(\n",
    "    INPUTS_DIR / 'train_peptides.csv',\n",
    ")\n",
    "print(peptide_df.shape)\n",
    "peptide_df.head(n=10)"
   ]
  },
  {
   "cell_type": "markdown",
   "id": "fa6a882d",
   "metadata": {
    "papermill": {
     "duration": 0.013816,
     "end_time": "2023-04-10T14:53:46.790702",
     "exception": false,
     "start_time": "2023-04-10T14:53:46.776886",
     "status": "completed"
    },
    "tags": []
   },
   "source": [
    "## Data Exploration"
   ]
  },
  {
   "cell_type": "code",
   "execution_count": 5,
   "id": "293b2f5d",
   "metadata": {
    "execution": {
     "iopub.execute_input": "2023-04-10T14:53:46.819890Z",
     "iopub.status.busy": "2023-04-10T14:53:46.819192Z",
     "iopub.status.idle": "2023-04-10T14:53:46.841604Z",
     "shell.execute_reply": "2023-04-10T14:53:46.840567Z"
    },
    "papermill": {
     "duration": 0.039626,
     "end_time": "2023-04-10T14:53:46.843956",
     "exception": false,
     "start_time": "2023-04-10T14:53:46.804330",
     "status": "completed"
    },
    "tags": []
   },
   "outputs": [
    {
     "data": {
      "text/plain": [
       "array([], dtype=int64)"
      ]
     },
     "execution_count": 5,
     "metadata": {},
     "output_type": "execute_result"
    }
   ],
   "source": [
    "# sort by patient id and month\n",
    "clinical_df = clinical_df.sort_values(\n",
    "    ['patient_id', 'visit_month'],\n",
    ")\n",
    "supp_clinical_df = supp_clinical_df.sort_values(\n",
    "    ['patient_id', 'visit_month'],\n",
    ")\n",
    "all_clinical_df = all_clinical_df.sort_values(\n",
    "    ['patient_id', 'visit_month'],\n",
    ")\n",
    "all_clinical_df.head()\n",
    "\n",
    "# get all unique patient ids (already sorted)\n",
    "clin_patient_ids = clinical_df['patient_id'].unique()\n",
    "supp_patient_ids = supp_clinical_df['patient_id'].unique()\n",
    "patient_ids = all_clinical_df['patient_id'].unique()\n",
    "\n",
    "# Verifying there are no supplemental patient ids that may have protein/peptide data\n",
    "np.intersect1d(clin_patient_ids, supp_patient_ids)\n",
    "\n"
   ]
  },
  {
   "cell_type": "markdown",
   "id": "2fea4628",
   "metadata": {
    "papermill": {
     "duration": 0.014034,
     "end_time": "2023-04-10T14:53:46.872443",
     "exception": false,
     "start_time": "2023-04-10T14:53:46.858409",
     "status": "completed"
    },
    "tags": []
   },
   "source": [
    "## Data Processing\n",
    "This is (with only minor modifications) from [this work by Xavier R Nogueira](https://www.kaggle.com/code/xaviernogueira/pre-processing-making-labels-and-imputation#Add-supplemental-clinical-data-to-the-main-clininical-data) released under the [Apache 2.0](http://www.apache.org/licenses/LICENSE-2.0) open source license."
   ]
  },
  {
   "cell_type": "markdown",
   "id": "57f658ac",
   "metadata": {
    "papermill": {
     "duration": 0.025033,
     "end_time": "2023-04-10T14:53:46.921784",
     "exception": false,
     "start_time": "2023-04-10T14:53:46.896751",
     "status": "completed"
    },
    "tags": []
   },
   "source": [
    "## Clinical Data Processing\n",
    "The main change I made was to turn it into a factory pattern function, so that I could process the `train_clinical_data` and the `supplemental_clinical_data` separately. Since the `supplemental_clinical_data` doesn't have protein/peptide information, I don't think it should be grouped it in with the labeled data. \n",
    "\n",
    "Instead, I'll use the `supplemental_clinical_data` to pretrain the base layers of my multi-output model on typical Parkinsons Disease progression."
   ]
  },
  {
   "cell_type": "code",
   "execution_count": 6,
   "id": "c9a9e02a",
   "metadata": {
    "execution": {
     "iopub.execute_input": "2023-04-10T14:53:46.979378Z",
     "iopub.status.busy": "2023-04-10T14:53:46.978944Z",
     "iopub.status.idle": "2023-04-10T14:53:47.002091Z",
     "shell.execute_reply": "2023-04-10T14:53:47.000706Z"
    },
    "papermill": {
     "duration": 0.054975,
     "end_time": "2023-04-10T14:53:47.004773",
     "exception": false,
     "start_time": "2023-04-10T14:53:46.949798",
     "status": "completed"
    },
    "tags": []
   },
   "outputs": [],
   "source": [
    "def process_clinical_data(clinical_data, parquet_outfile_name):\n",
    "    # rename same visit columns\n",
    "    for updrs_col in [i for i in clinical_data.columns if 'updrs' in i]:\n",
    "        clinical_data = clinical_data.rename(\n",
    "            columns={updrs_col: updrs_col + '_plus_0_months'},\n",
    "        )\n",
    "    clinical_data.head()\n",
    "\n",
    "    # sort by patient id and month\n",
    "    clinical_data = clinical_data.sort_values(\n",
    "        ['patient_id', 'visit_month'],\n",
    "    )\n",
    "    clinical_data.head()\n",
    "\n",
    "    # get all unique patient ids (already sorted)\n",
    "    patient_ids = clinical_data['patient_id'].unique()\n",
    "\n",
    "    # get all unique visit_months and sort\n",
    "    months = clinical_data.visit_month.unique()\n",
    "    months.sort()\n",
    "    evenly_spaced_months = np.arange(months[0], months[-1] + 1)\n",
    "\n",
    "    # create a new multi index with all unique patient id evenly spaced months\n",
    "    multi_index = pd.MultiIndex.from_product(\n",
    "        [patient_ids, evenly_spaced_months],\n",
    "        names=['patient_id', 'visit_month'],\n",
    "    )\n",
    "    print(len(multi_index))\n",
    "\n",
    "    # convert into dataframe multiindex\n",
    "    multi_index = pd.DataFrame(\n",
    "        index=multi_index,\n",
    "    )\n",
    "\n",
    "    multi_index.head(n=5)\n",
    "\n",
    "    # join full clinical data\n",
    "    clinical_data = multi_index.join(\n",
    "        clinical_data.reset_index().set_index(['patient_id', 'visit_month']),\n",
    "        how='left',\n",
    "    )\n",
    "    clinical_data.head()\n",
    "\n",
    "    # shift data forward for our labels while grouping by patient_id\n",
    "    for col in [i for i in clinical_data.columns if 'plus_0_months' in i]:\n",
    "        clinical_data[col.replace('0', '6')] = clinical_data.groupby('patient_id')[col].shift(-6)\n",
    "        clinical_data[col.replace('0', '12')] = clinical_data.groupby('patient_id')[col].shift(-12)\n",
    "        clinical_data[col.replace('0', '24')] = clinical_data.groupby('patient_id')[col].shift(-24)\n",
    "    clinical_data.head()\n",
    "\n",
    "    # drop all rows where visit_id is NaN\n",
    "    clinical_data = clinical_data.loc[clinical_data.visit_id.notna()]\n",
    "\n",
    "    # reset index back to visit_id\n",
    "    clinical_data = (\n",
    "        clinical_data\n",
    "        .reset_index()\n",
    "        .set_index('visit_id')\n",
    "    )\n",
    "    clinical_data.head()\n",
    "    \n",
    "    # save labels data frame as a parquet file (without non labels columns)\n",
    "    clinical_data.drop(\n",
    "        columns=['patient_id', 'visit_month', 'upd23b_clinical_state_on_medication'],\n",
    "    ).to_parquet(\n",
    "        parquet_outfile_name,\n",
    "    )\n",
    "    \n",
    "    return clinical_data"
   ]
  },
  {
   "cell_type": "code",
   "execution_count": 7,
   "id": "77628728",
   "metadata": {
    "execution": {
     "iopub.execute_input": "2023-04-10T14:53:47.061626Z",
     "iopub.status.busy": "2023-04-10T14:53:47.061258Z",
     "iopub.status.idle": "2023-04-10T14:53:47.306292Z",
     "shell.execute_reply": "2023-04-10T14:53:47.305265Z"
    },
    "papermill": {
     "duration": 0.279297,
     "end_time": "2023-04-10T14:53:47.308834",
     "exception": false,
     "start_time": "2023-04-10T14:53:47.029537",
     "status": "completed"
    },
    "tags": []
   },
   "outputs": [
    {
     "name": "stdout",
     "output_type": "stream",
     "text": [
      "27032\n",
      "28527\n"
     ]
    }
   ],
   "source": [
    "# Clinical data post-processing, saving labels to a parquet file\n",
    "clinical_df_pp = process_clinical_data(clinical_df, 'clinical_data_training_labels.parquet')\n",
    "\n",
    "# Supplemental clinical data post-processing, saving labels to a parquet file\n",
    "supp_clinical_df_pp = process_clinical_data(supp_clinical_df, 'supp_clinical_data_training_labels.parquet')"
   ]
  },
  {
   "cell_type": "markdown",
   "id": "4ee1d575",
   "metadata": {
    "papermill": {
     "duration": 0.013643,
     "end_time": "2023-04-10T14:53:47.336498",
     "exception": false,
     "start_time": "2023-04-10T14:53:47.322855",
     "status": "completed"
    },
    "tags": []
   },
   "source": [
    "## Protein/Peptide data processing"
   ]
  },
  {
   "cell_type": "code",
   "execution_count": 8,
   "id": "bca6e177",
   "metadata": {
    "execution": {
     "iopub.execute_input": "2023-04-10T14:53:47.365046Z",
     "iopub.status.busy": "2023-04-10T14:53:47.364724Z",
     "iopub.status.idle": "2023-04-10T14:53:47.882180Z",
     "shell.execute_reply": "2023-04-10T14:53:47.881075Z"
    },
    "papermill": {
     "duration": 0.534196,
     "end_time": "2023-04-10T14:53:47.884259",
     "exception": false,
     "start_time": "2023-04-10T14:53:47.350063",
     "status": "completed"
    },
    "tags": []
   },
   "outputs": [
    {
     "name": "stdout",
     "output_type": "stream",
     "text": [
      "(1113,)\n",
      "(1113, 227)\n",
      "(1113,)\n",
      "(1113, 968)\n"
     ]
    },
    {
     "data": {
      "text/html": [
       "<div>\n",
       "<style scoped>\n",
       "    .dataframe tbody tr th:only-of-type {\n",
       "        vertical-align: middle;\n",
       "    }\n",
       "\n",
       "    .dataframe tbody tr th {\n",
       "        vertical-align: top;\n",
       "    }\n",
       "\n",
       "    .dataframe thead th {\n",
       "        text-align: right;\n",
       "    }\n",
       "</style>\n",
       "<table border=\"1\" class=\"dataframe\">\n",
       "  <thead>\n",
       "    <tr style=\"text-align: right;\">\n",
       "      <th>Peptide</th>\n",
       "      <th>AADDTWEPFASGK</th>\n",
       "      <th>AAFGQGSGPIMLDEVQC(UniMod_4)TGTEASLADC(UniMod_4)K</th>\n",
       "      <th>AAFTEC(UniMod_4)C(UniMod_4)QAADK</th>\n",
       "      <th>AANEVSSADVK</th>\n",
       "      <th>AATGEC(UniMod_4)TATVGKR</th>\n",
       "      <th>AATVGSLAGQPLQER</th>\n",
       "      <th>AAVYHHFISDGVR</th>\n",
       "      <th>ADDKETC(UniMod_4)FAEEGK</th>\n",
       "      <th>ADDKETC(UniMod_4)FAEEGKK</th>\n",
       "      <th>ADDLGKGGNEESTKTGNAGSR</th>\n",
       "      <th>...</th>\n",
       "      <th>YSLTYIYTGLSK</th>\n",
       "      <th>YTTEIIK</th>\n",
       "      <th>YVGGQEHFAHLLILR</th>\n",
       "      <th>YVM(UniMod_35)LPVADQDQC(UniMod_4)IR</th>\n",
       "      <th>YVMLPVADQDQC(UniMod_4)IR</th>\n",
       "      <th>YVNKEIQNAVNGVK</th>\n",
       "      <th>YWGVASFLQK</th>\n",
       "      <th>YYC(UniMod_4)FQGNQFLR</th>\n",
       "      <th>YYTYLIMNK</th>\n",
       "      <th>YYWGGQYTWDMAK</th>\n",
       "    </tr>\n",
       "    <tr>\n",
       "      <th>visit_id</th>\n",
       "      <th></th>\n",
       "      <th></th>\n",
       "      <th></th>\n",
       "      <th></th>\n",
       "      <th></th>\n",
       "      <th></th>\n",
       "      <th></th>\n",
       "      <th></th>\n",
       "      <th></th>\n",
       "      <th></th>\n",
       "      <th></th>\n",
       "      <th></th>\n",
       "      <th></th>\n",
       "      <th></th>\n",
       "      <th></th>\n",
       "      <th></th>\n",
       "      <th></th>\n",
       "      <th></th>\n",
       "      <th></th>\n",
       "      <th></th>\n",
       "      <th></th>\n",
       "    </tr>\n",
       "  </thead>\n",
       "  <tbody>\n",
       "    <tr>\n",
       "      <th>10053_0</th>\n",
       "      <td>6580710.0</td>\n",
       "      <td>31204.4</td>\n",
       "      <td>7735070.0</td>\n",
       "      <td>NaN</td>\n",
       "      <td>NaN</td>\n",
       "      <td>NaN</td>\n",
       "      <td>46620.3</td>\n",
       "      <td>236144.0</td>\n",
       "      <td>NaN</td>\n",
       "      <td>NaN</td>\n",
       "      <td>...</td>\n",
       "      <td>202274.0</td>\n",
       "      <td>NaN</td>\n",
       "      <td>4401830.0</td>\n",
       "      <td>77482.6</td>\n",
       "      <td>583075.0</td>\n",
       "      <td>76705.7</td>\n",
       "      <td>104260.0</td>\n",
       "      <td>530223.0</td>\n",
       "      <td>NaN</td>\n",
       "      <td>7207.30</td>\n",
       "    </tr>\n",
       "    <tr>\n",
       "      <th>10053_12</th>\n",
       "      <td>6333510.0</td>\n",
       "      <td>52277.6</td>\n",
       "      <td>5394390.0</td>\n",
       "      <td>NaN</td>\n",
       "      <td>NaN</td>\n",
       "      <td>NaN</td>\n",
       "      <td>57554.5</td>\n",
       "      <td>108298.0</td>\n",
       "      <td>45885.4</td>\n",
       "      <td>NaN</td>\n",
       "      <td>...</td>\n",
       "      <td>201009.0</td>\n",
       "      <td>NaN</td>\n",
       "      <td>5001750.0</td>\n",
       "      <td>36745.3</td>\n",
       "      <td>355643.0</td>\n",
       "      <td>92078.1</td>\n",
       "      <td>123254.0</td>\n",
       "      <td>453883.0</td>\n",
       "      <td>49281.9</td>\n",
       "      <td>25332.80</td>\n",
       "    </tr>\n",
       "    <tr>\n",
       "      <th>10053_18</th>\n",
       "      <td>7129640.0</td>\n",
       "      <td>61522.0</td>\n",
       "      <td>7011920.0</td>\n",
       "      <td>35984.7</td>\n",
       "      <td>17188.0</td>\n",
       "      <td>19787.3</td>\n",
       "      <td>36029.4</td>\n",
       "      <td>708729.0</td>\n",
       "      <td>5067790.0</td>\n",
       "      <td>30838.2</td>\n",
       "      <td>...</td>\n",
       "      <td>220728.0</td>\n",
       "      <td>NaN</td>\n",
       "      <td>5424380.0</td>\n",
       "      <td>39016.0</td>\n",
       "      <td>496021.0</td>\n",
       "      <td>63203.6</td>\n",
       "      <td>128336.0</td>\n",
       "      <td>447505.0</td>\n",
       "      <td>52389.1</td>\n",
       "      <td>21235.70</td>\n",
       "    </tr>\n",
       "    <tr>\n",
       "      <th>10138_12</th>\n",
       "      <td>7404780.0</td>\n",
       "      <td>46107.2</td>\n",
       "      <td>10610900.0</td>\n",
       "      <td>NaN</td>\n",
       "      <td>20910.2</td>\n",
       "      <td>66662.3</td>\n",
       "      <td>55253.9</td>\n",
       "      <td>79575.5</td>\n",
       "      <td>6201210.0</td>\n",
       "      <td>26720.0</td>\n",
       "      <td>...</td>\n",
       "      <td>188362.0</td>\n",
       "      <td>9433.71</td>\n",
       "      <td>3900280.0</td>\n",
       "      <td>48210.3</td>\n",
       "      <td>328482.0</td>\n",
       "      <td>89822.1</td>\n",
       "      <td>129964.0</td>\n",
       "      <td>552232.0</td>\n",
       "      <td>65657.8</td>\n",
       "      <td>9876.98</td>\n",
       "    </tr>\n",
       "    <tr>\n",
       "      <th>10138_24</th>\n",
       "      <td>13788300.0</td>\n",
       "      <td>56910.3</td>\n",
       "      <td>6906160.0</td>\n",
       "      <td>13785.5</td>\n",
       "      <td>11004.2</td>\n",
       "      <td>63672.7</td>\n",
       "      <td>36819.8</td>\n",
       "      <td>34160.9</td>\n",
       "      <td>2117430.0</td>\n",
       "      <td>15645.2</td>\n",
       "      <td>...</td>\n",
       "      <td>206187.0</td>\n",
       "      <td>6365.15</td>\n",
       "      <td>3521800.0</td>\n",
       "      <td>69984.6</td>\n",
       "      <td>496737.0</td>\n",
       "      <td>80919.3</td>\n",
       "      <td>111799.0</td>\n",
       "      <td>NaN</td>\n",
       "      <td>56977.6</td>\n",
       "      <td>4903.09</td>\n",
       "    </tr>\n",
       "  </tbody>\n",
       "</table>\n",
       "<p>5 rows × 968 columns</p>\n",
       "</div>"
      ],
      "text/plain": [
       "Peptide   AADDTWEPFASGK  AAFGQGSGPIMLDEVQC(UniMod_4)TGTEASLADC(UniMod_4)K  \\\n",
       "visit_id                                                                    \n",
       "10053_0       6580710.0                                           31204.4   \n",
       "10053_12      6333510.0                                           52277.6   \n",
       "10053_18      7129640.0                                           61522.0   \n",
       "10138_12      7404780.0                                           46107.2   \n",
       "10138_24     13788300.0                                           56910.3   \n",
       "\n",
       "Peptide   AAFTEC(UniMod_4)C(UniMod_4)QAADK  AANEVSSADVK  \\\n",
       "visit_id                                                  \n",
       "10053_0                          7735070.0          NaN   \n",
       "10053_12                         5394390.0          NaN   \n",
       "10053_18                         7011920.0      35984.7   \n",
       "10138_12                        10610900.0          NaN   \n",
       "10138_24                         6906160.0      13785.5   \n",
       "\n",
       "Peptide   AATGEC(UniMod_4)TATVGKR  AATVGSLAGQPLQER  AAVYHHFISDGVR  \\\n",
       "visit_id                                                            \n",
       "10053_0                       NaN              NaN        46620.3   \n",
       "10053_12                      NaN              NaN        57554.5   \n",
       "10053_18                  17188.0          19787.3        36029.4   \n",
       "10138_12                  20910.2          66662.3        55253.9   \n",
       "10138_24                  11004.2          63672.7        36819.8   \n",
       "\n",
       "Peptide   ADDKETC(UniMod_4)FAEEGK  ADDKETC(UniMod_4)FAEEGKK  \\\n",
       "visit_id                                                      \n",
       "10053_0                  236144.0                       NaN   \n",
       "10053_12                 108298.0                   45885.4   \n",
       "10053_18                 708729.0                 5067790.0   \n",
       "10138_12                  79575.5                 6201210.0   \n",
       "10138_24                  34160.9                 2117430.0   \n",
       "\n",
       "Peptide   ADDLGKGGNEESTKTGNAGSR  ...  YSLTYIYTGLSK  YTTEIIK  YVGGQEHFAHLLILR  \\\n",
       "visit_id                         ...                                           \n",
       "10053_0                     NaN  ...      202274.0      NaN        4401830.0   \n",
       "10053_12                    NaN  ...      201009.0      NaN        5001750.0   \n",
       "10053_18                30838.2  ...      220728.0      NaN        5424380.0   \n",
       "10138_12                26720.0  ...      188362.0  9433.71        3900280.0   \n",
       "10138_24                15645.2  ...      206187.0  6365.15        3521800.0   \n",
       "\n",
       "Peptide   YVM(UniMod_35)LPVADQDQC(UniMod_4)IR  YVMLPVADQDQC(UniMod_4)IR  \\\n",
       "visit_id                                                                  \n",
       "10053_0                               77482.6                  583075.0   \n",
       "10053_12                              36745.3                  355643.0   \n",
       "10053_18                              39016.0                  496021.0   \n",
       "10138_12                              48210.3                  328482.0   \n",
       "10138_24                              69984.6                  496737.0   \n",
       "\n",
       "Peptide   YVNKEIQNAVNGVK  YWGVASFLQK  YYC(UniMod_4)FQGNQFLR  YYTYLIMNK  \\\n",
       "visit_id                                                                 \n",
       "10053_0          76705.7    104260.0               530223.0        NaN   \n",
       "10053_12         92078.1    123254.0               453883.0    49281.9   \n",
       "10053_18         63203.6    128336.0               447505.0    52389.1   \n",
       "10138_12         89822.1    129964.0               552232.0    65657.8   \n",
       "10138_24         80919.3    111799.0                    NaN    56977.6   \n",
       "\n",
       "Peptide   YYWGGQYTWDMAK  \n",
       "visit_id                 \n",
       "10053_0         7207.30  \n",
       "10053_12       25332.80  \n",
       "10053_18       21235.70  \n",
       "10138_12        9876.98  \n",
       "10138_24        4903.09  \n",
       "\n",
       "[5 rows x 968 columns]"
      ]
     },
     "execution_count": 8,
     "metadata": {},
     "output_type": "execute_result"
    }
   ],
   "source": [
    "proteins_df = proteins_df.pivot(\n",
    "    index='visit_id',\n",
    "    columns='UniProt',\n",
    "    values='NPX',\n",
    ")\n",
    "print(proteins_df.index.unique().shape)\n",
    "print(proteins_df.shape)\n",
    "proteins_df.head(n=5)\n",
    "\n",
    "\n",
    "peptide_df = peptide_df.pivot(\n",
    "    index='visit_id',\n",
    "    columns='Peptide',\n",
    "    values='PeptideAbundance',\n",
    ")\n",
    "print(peptide_df.index.unique().shape)\n",
    "print(peptide_df.shape)\n",
    "peptide_df.head(n=5)"
   ]
  },
  {
   "cell_type": "code",
   "execution_count": 9,
   "id": "75471597",
   "metadata": {
    "execution": {
     "iopub.execute_input": "2023-04-10T14:53:47.914653Z",
     "iopub.status.busy": "2023-04-10T14:53:47.914322Z",
     "iopub.status.idle": "2023-04-10T14:53:47.946319Z",
     "shell.execute_reply": "2023-04-10T14:53:47.945102Z"
    },
    "papermill": {
     "duration": 0.050011,
     "end_time": "2023-04-10T14:53:47.949138",
     "exception": false,
     "start_time": "2023-04-10T14:53:47.899127",
     "status": "completed"
    },
    "tags": []
   },
   "outputs": [
    {
     "data": {
      "text/html": [
       "<div>\n",
       "<style scoped>\n",
       "    .dataframe tbody tr th:only-of-type {\n",
       "        vertical-align: middle;\n",
       "    }\n",
       "\n",
       "    .dataframe tbody tr th {\n",
       "        vertical-align: top;\n",
       "    }\n",
       "\n",
       "    .dataframe thead th {\n",
       "        text-align: right;\n",
       "    }\n",
       "</style>\n",
       "<table border=\"1\" class=\"dataframe\">\n",
       "  <thead>\n",
       "    <tr style=\"text-align: right;\">\n",
       "      <th></th>\n",
       "      <th>O00391</th>\n",
       "      <th>O00533</th>\n",
       "      <th>O00584</th>\n",
       "      <th>O14498</th>\n",
       "      <th>O14773</th>\n",
       "      <th>O14791</th>\n",
       "      <th>O15240</th>\n",
       "      <th>O15394</th>\n",
       "      <th>O43505</th>\n",
       "      <th>O60888</th>\n",
       "      <th>...</th>\n",
       "      <th>YSLTYIYTGLSK</th>\n",
       "      <th>YTTEIIK</th>\n",
       "      <th>YVGGQEHFAHLLILR</th>\n",
       "      <th>YVM(UniMod_35)LPVADQDQC(UniMod_4)IR</th>\n",
       "      <th>YVMLPVADQDQC(UniMod_4)IR</th>\n",
       "      <th>YVNKEIQNAVNGVK</th>\n",
       "      <th>YWGVASFLQK</th>\n",
       "      <th>YYC(UniMod_4)FQGNQFLR</th>\n",
       "      <th>YYTYLIMNK</th>\n",
       "      <th>YYWGGQYTWDMAK</th>\n",
       "    </tr>\n",
       "    <tr>\n",
       "      <th>visit_id</th>\n",
       "      <th></th>\n",
       "      <th></th>\n",
       "      <th></th>\n",
       "      <th></th>\n",
       "      <th></th>\n",
       "      <th></th>\n",
       "      <th></th>\n",
       "      <th></th>\n",
       "      <th></th>\n",
       "      <th></th>\n",
       "      <th></th>\n",
       "      <th></th>\n",
       "      <th></th>\n",
       "      <th></th>\n",
       "      <th></th>\n",
       "      <th></th>\n",
       "      <th></th>\n",
       "      <th></th>\n",
       "      <th></th>\n",
       "      <th></th>\n",
       "      <th></th>\n",
       "    </tr>\n",
       "  </thead>\n",
       "  <tbody>\n",
       "    <tr>\n",
       "      <th>10053_0</th>\n",
       "      <td>9104.27</td>\n",
       "      <td>402321.0</td>\n",
       "      <td>NaN</td>\n",
       "      <td>NaN</td>\n",
       "      <td>7150.57</td>\n",
       "      <td>2497.84</td>\n",
       "      <td>83002.9</td>\n",
       "      <td>15113.6</td>\n",
       "      <td>167327.0</td>\n",
       "      <td>129048.0</td>\n",
       "      <td>...</td>\n",
       "      <td>202274.0</td>\n",
       "      <td>NaN</td>\n",
       "      <td>4401830.0</td>\n",
       "      <td>77482.6</td>\n",
       "      <td>583075.0</td>\n",
       "      <td>76705.7</td>\n",
       "      <td>104260.0</td>\n",
       "      <td>530223.0</td>\n",
       "      <td>NaN</td>\n",
       "      <td>7207.30</td>\n",
       "    </tr>\n",
       "    <tr>\n",
       "      <th>10053_12</th>\n",
       "      <td>10464.20</td>\n",
       "      <td>435586.0</td>\n",
       "      <td>NaN</td>\n",
       "      <td>NaN</td>\n",
       "      <td>NaN</td>\n",
       "      <td>NaN</td>\n",
       "      <td>197117.0</td>\n",
       "      <td>15099.1</td>\n",
       "      <td>164268.0</td>\n",
       "      <td>108114.0</td>\n",
       "      <td>...</td>\n",
       "      <td>201009.0</td>\n",
       "      <td>NaN</td>\n",
       "      <td>5001750.0</td>\n",
       "      <td>36745.3</td>\n",
       "      <td>355643.0</td>\n",
       "      <td>92078.1</td>\n",
       "      <td>123254.0</td>\n",
       "      <td>453883.0</td>\n",
       "      <td>49281.9</td>\n",
       "      <td>25332.80</td>\n",
       "    </tr>\n",
       "    <tr>\n",
       "      <th>10053_18</th>\n",
       "      <td>13235.70</td>\n",
       "      <td>507386.0</td>\n",
       "      <td>7126.96</td>\n",
       "      <td>24525.7</td>\n",
       "      <td>NaN</td>\n",
       "      <td>2372.71</td>\n",
       "      <td>126506.0</td>\n",
       "      <td>16289.6</td>\n",
       "      <td>168107.0</td>\n",
       "      <td>163776.0</td>\n",
       "      <td>...</td>\n",
       "      <td>220728.0</td>\n",
       "      <td>NaN</td>\n",
       "      <td>5424380.0</td>\n",
       "      <td>39016.0</td>\n",
       "      <td>496021.0</td>\n",
       "      <td>63203.6</td>\n",
       "      <td>128336.0</td>\n",
       "      <td>447505.0</td>\n",
       "      <td>52389.1</td>\n",
       "      <td>21235.70</td>\n",
       "    </tr>\n",
       "    <tr>\n",
       "      <th>10138_12</th>\n",
       "      <td>12600.20</td>\n",
       "      <td>494581.0</td>\n",
       "      <td>9165.06</td>\n",
       "      <td>27193.5</td>\n",
       "      <td>22506.10</td>\n",
       "      <td>6015.90</td>\n",
       "      <td>156313.0</td>\n",
       "      <td>54546.4</td>\n",
       "      <td>204013.0</td>\n",
       "      <td>56725.0</td>\n",
       "      <td>...</td>\n",
       "      <td>188362.0</td>\n",
       "      <td>9433.71</td>\n",
       "      <td>3900280.0</td>\n",
       "      <td>48210.3</td>\n",
       "      <td>328482.0</td>\n",
       "      <td>89822.1</td>\n",
       "      <td>129964.0</td>\n",
       "      <td>552232.0</td>\n",
       "      <td>65657.8</td>\n",
       "      <td>9876.98</td>\n",
       "    </tr>\n",
       "    <tr>\n",
       "      <th>10138_24</th>\n",
       "      <td>12003.20</td>\n",
       "      <td>522138.0</td>\n",
       "      <td>4498.51</td>\n",
       "      <td>17189.8</td>\n",
       "      <td>29112.40</td>\n",
       "      <td>2665.15</td>\n",
       "      <td>151169.0</td>\n",
       "      <td>52338.1</td>\n",
       "      <td>240892.0</td>\n",
       "      <td>85767.1</td>\n",
       "      <td>...</td>\n",
       "      <td>206187.0</td>\n",
       "      <td>6365.15</td>\n",
       "      <td>3521800.0</td>\n",
       "      <td>69984.6</td>\n",
       "      <td>496737.0</td>\n",
       "      <td>80919.3</td>\n",
       "      <td>111799.0</td>\n",
       "      <td>NaN</td>\n",
       "      <td>56977.6</td>\n",
       "      <td>4903.09</td>\n",
       "    </tr>\n",
       "  </tbody>\n",
       "</table>\n",
       "<p>5 rows × 1195 columns</p>\n",
       "</div>"
      ],
      "text/plain": [
       "            O00391    O00533   O00584   O14498    O14773   O14791    O15240  \\\n",
       "visit_id                                                                      \n",
       "10053_0    9104.27  402321.0      NaN      NaN   7150.57  2497.84   83002.9   \n",
       "10053_12  10464.20  435586.0      NaN      NaN       NaN      NaN  197117.0   \n",
       "10053_18  13235.70  507386.0  7126.96  24525.7       NaN  2372.71  126506.0   \n",
       "10138_12  12600.20  494581.0  9165.06  27193.5  22506.10  6015.90  156313.0   \n",
       "10138_24  12003.20  522138.0  4498.51  17189.8  29112.40  2665.15  151169.0   \n",
       "\n",
       "           O15394    O43505    O60888  ...  YSLTYIYTGLSK  YTTEIIK  \\\n",
       "visit_id                               ...                          \n",
       "10053_0   15113.6  167327.0  129048.0  ...      202274.0      NaN   \n",
       "10053_12  15099.1  164268.0  108114.0  ...      201009.0      NaN   \n",
       "10053_18  16289.6  168107.0  163776.0  ...      220728.0      NaN   \n",
       "10138_12  54546.4  204013.0   56725.0  ...      188362.0  9433.71   \n",
       "10138_24  52338.1  240892.0   85767.1  ...      206187.0  6365.15   \n",
       "\n",
       "          YVGGQEHFAHLLILR  YVM(UniMod_35)LPVADQDQC(UniMod_4)IR  \\\n",
       "visit_id                                                         \n",
       "10053_0         4401830.0                              77482.6   \n",
       "10053_12        5001750.0                              36745.3   \n",
       "10053_18        5424380.0                              39016.0   \n",
       "10138_12        3900280.0                              48210.3   \n",
       "10138_24        3521800.0                              69984.6   \n",
       "\n",
       "          YVMLPVADQDQC(UniMod_4)IR  YVNKEIQNAVNGVK  YWGVASFLQK  \\\n",
       "visit_id                                                         \n",
       "10053_0                   583075.0         76705.7    104260.0   \n",
       "10053_12                  355643.0         92078.1    123254.0   \n",
       "10053_18                  496021.0         63203.6    128336.0   \n",
       "10138_12                  328482.0         89822.1    129964.0   \n",
       "10138_24                  496737.0         80919.3    111799.0   \n",
       "\n",
       "          YYC(UniMod_4)FQGNQFLR  YYTYLIMNK  YYWGGQYTWDMAK  \n",
       "visit_id                                                   \n",
       "10053_0                530223.0        NaN        7207.30  \n",
       "10053_12               453883.0    49281.9       25332.80  \n",
       "10053_18               447505.0    52389.1       21235.70  \n",
       "10138_12               552232.0    65657.8        9876.98  \n",
       "10138_24                    NaN    56977.6        4903.09  \n",
       "\n",
       "[5 rows x 1195 columns]"
      ]
     },
     "execution_count": 9,
     "metadata": {},
     "output_type": "execute_result"
    }
   ],
   "source": [
    "# keep track of our protein / peptide columns\n",
    "protein_cols = list(proteins_df.columns)\n",
    "peptide_cols = list(peptide_df.columns)\n",
    "\n",
    "# join the protein / peptide data\n",
    "prot_and_peps_df = pd.concat(\n",
    "    [proteins_df, peptide_df],\n",
    "    axis=1,\n",
    ")\n",
    "prot_and_peps_df.head()"
   ]
  },
  {
   "cell_type": "markdown",
   "id": "bb8ee240",
   "metadata": {
    "papermill": {
     "duration": 0.01455,
     "end_time": "2023-04-10T14:53:47.978998",
     "exception": false,
     "start_time": "2023-04-10T14:53:47.964448",
     "status": "completed"
    },
    "tags": []
   },
   "source": [
    "## Use regression to impute missing protein/peptide values\n",
    "\n",
    "The author mentioned above uses IterativeImputer and KNNImputer, with time I may try other approaches."
   ]
  },
  {
   "cell_type": "code",
   "execution_count": 10,
   "id": "810a4b82",
   "metadata": {
    "execution": {
     "iopub.execute_input": "2023-04-10T14:53:48.009185Z",
     "iopub.status.busy": "2023-04-10T14:53:48.008877Z",
     "iopub.status.idle": "2023-04-10T14:53:48.261325Z",
     "shell.execute_reply": "2023-04-10T14:53:48.260074Z"
    },
    "papermill": {
     "duration": 0.27098,
     "end_time": "2023-04-10T14:53:48.264358",
     "exception": false,
     "start_time": "2023-04-10T14:53:47.993378",
     "status": "completed"
    },
    "tags": []
   },
   "outputs": [],
   "source": [
    "# enable experimental imputer\n",
    "from sklearn.experimental import enable_iterative_imputer\n",
    "\n",
    "# import our imputation algos\n",
    "from sklearn.impute import (\n",
    "    IterativeImputer,\n",
    "    KNNImputer,\n",
    "    MissingIndicator,\n",
    ")"
   ]
  },
  {
   "cell_type": "code",
   "execution_count": 11,
   "id": "45697de6",
   "metadata": {
    "execution": {
     "iopub.execute_input": "2023-04-10T14:53:48.309717Z",
     "iopub.status.busy": "2023-04-10T14:53:48.309369Z",
     "iopub.status.idle": "2023-04-10T14:54:58.966020Z",
     "shell.execute_reply": "2023-04-10T14:54:58.964681Z"
    },
    "papermill": {
     "duration": 70.681499,
     "end_time": "2023-04-10T14:54:58.968325",
     "exception": false,
     "start_time": "2023-04-10T14:53:48.286826",
     "status": "completed"
    },
    "tags": []
   },
   "outputs": [
    {
     "name": "stdout",
     "output_type": "stream",
     "text": [
      "[IterativeImputer] Completing matrix with shape (1113, 1195)\n",
      "[IterativeImputer] Change: 130568398.39773433, scaled tolerance: 613851.0 \n",
      "[IterativeImputer] Change: 77563167.82092555, scaled tolerance: 613851.0 \n",
      "[IterativeImputer] Change: 78713142.811598, scaled tolerance: 613851.0 \n",
      "[IterativeImputer] Change: 68386278.2659291, scaled tolerance: 613851.0 \n",
      "[IterativeImputer] Change: 58950981.531031005, scaled tolerance: 613851.0 \n",
      "[IterativeImputer] Change: 49105309.261280835, scaled tolerance: 613851.0 \n",
      "[IterativeImputer] Change: 53710931.93691759, scaled tolerance: 613851.0 \n",
      "[IterativeImputer] Change: 3.352743452296132e+19, scaled tolerance: 613851.0 \n",
      "[IterativeImputer] Change: 3.577392722159968e+19, scaled tolerance: 613851.0 \n",
      "[IterativeImputer] Change: 7.52520912707843e+19, scaled tolerance: 613851.0 \n"
     ]
    },
    {
     "name": "stderr",
     "output_type": "stream",
     "text": [
      "/opt/conda/lib/python3.7/site-packages/sklearn/impute/_iterative.py:701: ConvergenceWarning: [IterativeImputer] Early stopping criterion not reached.\n",
      "  ConvergenceWarning,\n"
     ]
    },
    {
     "name": "stdout",
     "output_type": "stream",
     "text": [
      "CPU times: user 1min 34s, sys: 39.3 s, total: 2min 13s\n",
      "Wall time: 1min 10s\n"
     ]
    }
   ],
   "source": [
    "%%time\n",
    "iter_imputer = IterativeImputer(\n",
    "    max_iter=10,\n",
    "    n_nearest_features=25,\n",
    "    imputation_order='ascending',\n",
    "    random_state=0,\n",
    "    verbose=1,\n",
    ")\n",
    "\n",
    "# fit the imputer\n",
    "iter_prot_and_peps_array = iter_imputer.fit_transform(prot_and_peps_df)\n",
    "iter_prot_and_peps_df = pd.DataFrame(\n",
    "    data=iter_prot_and_peps_array,\n",
    "    columns=prot_and_peps_df.columns,\n",
    "    index=prot_and_peps_df.index,\n",
    ")\n",
    "\n",
    "# save to parquet\n",
    "iter_prot_and_peps_df[protein_cols].to_parquet(\n",
    "    'protein_data_iterative_impute.parquet',\n",
    ")\n",
    "\n",
    "iter_prot_and_peps_df[peptide_cols].to_parquet(\n",
    "    'peptide_data_iterative_impute.parquet',\n",
    ")\n",
    "\n",
    "# Saving the data together makes more sense to me\n",
    "iter_prot_and_peps_df.to_parquet(\n",
    "    'protein_peptide_data_iterative_impute.parquet',\n",
    ")"
   ]
  },
  {
   "cell_type": "code",
   "execution_count": 12,
   "id": "e2947ca6",
   "metadata": {
    "execution": {
     "iopub.execute_input": "2023-04-10T14:54:59.001851Z",
     "iopub.status.busy": "2023-04-10T14:54:59.000106Z",
     "iopub.status.idle": "2023-04-10T14:55:03.459057Z",
     "shell.execute_reply": "2023-04-10T14:55:03.457382Z"
    },
    "papermill": {
     "duration": 4.477476,
     "end_time": "2023-04-10T14:55:03.461329",
     "exception": false,
     "start_time": "2023-04-10T14:54:58.983853",
     "status": "completed"
    },
    "tags": []
   },
   "outputs": [
    {
     "name": "stdout",
     "output_type": "stream",
     "text": [
      "CPU times: user 4.6 s, sys: 165 ms, total: 4.76 s\n",
      "Wall time: 4.45 s\n"
     ]
    }
   ],
   "source": [
    "%%time\n",
    "knn_imputer = KNNImputer(\n",
    "    weights='uniform',\n",
    "    n_neighbors=10,\n",
    ")\n",
    "\n",
    "# fit the imputer\n",
    "knn_prot_and_peps_array = knn_imputer.fit_transform(prot_and_peps_df)\n",
    "knn_prot_and_peps_df = pd.DataFrame(\n",
    "    data=knn_prot_and_peps_array,\n",
    "    columns=prot_and_peps_df.columns,\n",
    "    index=prot_and_peps_df.index,\n",
    ")\n",
    "\n",
    "# save to parquet\n",
    "knn_prot_and_peps_df[protein_cols].to_parquet(\n",
    "    'protein_data_KNN_impute.parquet',\n",
    ")\n",
    "\n",
    "knn_prot_and_peps_df[peptide_cols].to_parquet(\n",
    "    'peptide_data_KNN_impute.parquet',\n",
    ")\n",
    "\n",
    "# Saving the data together makes more sense to me\n",
    "knn_prot_and_peps_df.to_parquet(\n",
    "    'protein_peptide_data_KNN_impute.parquet',\n",
    ")"
   ]
  },
  {
   "cell_type": "markdown",
   "id": "1aaf1a1e",
   "metadata": {
    "papermill": {
     "duration": 0.015132,
     "end_time": "2023-04-10T14:55:03.491964",
     "exception": false,
     "start_time": "2023-04-10T14:55:03.476832",
     "status": "completed"
    },
    "tags": []
   },
   "source": [
    "# Train a deep learning model on Parkinsons Progression\n",
    "\n",
    "Use the `supplemental_clinical_data` which has no protein/peptide information to create the base layers."
   ]
  },
  {
   "cell_type": "code",
   "execution_count": 13,
   "id": "ab506b8e",
   "metadata": {
    "execution": {
     "iopub.execute_input": "2023-04-10T14:55:03.525178Z",
     "iopub.status.busy": "2023-04-10T14:55:03.524237Z",
     "iopub.status.idle": "2023-04-10T14:55:03.551521Z",
     "shell.execute_reply": "2023-04-10T14:55:03.550357Z"
    },
    "papermill": {
     "duration": 0.045836,
     "end_time": "2023-04-10T14:55:03.553710",
     "exception": false,
     "start_time": "2023-04-10T14:55:03.507874",
     "status": "completed"
    },
    "tags": []
   },
   "outputs": [
    {
     "name": "stdout",
     "output_type": "stream",
     "text": [
      "(2223, 1)\n",
      "(2223, 16)\n"
     ]
    },
    {
     "data": {
      "text/html": [
       "<div>\n",
       "<style scoped>\n",
       "    .dataframe tbody tr th:only-of-type {\n",
       "        vertical-align: middle;\n",
       "    }\n",
       "\n",
       "    .dataframe tbody tr th {\n",
       "        vertical-align: top;\n",
       "    }\n",
       "\n",
       "    .dataframe thead th {\n",
       "        text-align: right;\n",
       "    }\n",
       "</style>\n",
       "<table border=\"1\" class=\"dataframe\">\n",
       "  <thead>\n",
       "    <tr style=\"text-align: right;\">\n",
       "      <th></th>\n",
       "      <th>updrs_1_plus_0_months</th>\n",
       "      <th>updrs_2_plus_0_months</th>\n",
       "      <th>updrs_3_plus_0_months</th>\n",
       "      <th>updrs_4_plus_0_months</th>\n",
       "      <th>updrs_1_plus_6_months</th>\n",
       "      <th>updrs_1_plus_12_months</th>\n",
       "      <th>updrs_1_plus_24_months</th>\n",
       "      <th>updrs_2_plus_6_months</th>\n",
       "      <th>updrs_2_plus_12_months</th>\n",
       "      <th>updrs_2_plus_24_months</th>\n",
       "      <th>updrs_3_plus_6_months</th>\n",
       "      <th>updrs_3_plus_12_months</th>\n",
       "      <th>updrs_3_plus_24_months</th>\n",
       "      <th>updrs_4_plus_6_months</th>\n",
       "      <th>updrs_4_plus_12_months</th>\n",
       "      <th>updrs_4_plus_24_months</th>\n",
       "    </tr>\n",
       "  </thead>\n",
       "  <tbody>\n",
       "    <tr>\n",
       "      <th>23</th>\n",
       "      <td>6.0</td>\n",
       "      <td>3.0</td>\n",
       "      <td>11.0</td>\n",
       "      <td>6.0</td>\n",
       "      <td>NaN</td>\n",
       "      <td>NaN</td>\n",
       "      <td>NaN</td>\n",
       "      <td>NaN</td>\n",
       "      <td>NaN</td>\n",
       "      <td>NaN</td>\n",
       "      <td>NaN</td>\n",
       "      <td>NaN</td>\n",
       "      <td>NaN</td>\n",
       "      <td>NaN</td>\n",
       "      <td>NaN</td>\n",
       "      <td>NaN</td>\n",
       "    </tr>\n",
       "    <tr>\n",
       "      <th>1903</th>\n",
       "      <td>0.0</td>\n",
       "      <td>1.0</td>\n",
       "      <td>20.0</td>\n",
       "      <td>NaN</td>\n",
       "      <td>NaN</td>\n",
       "      <td>NaN</td>\n",
       "      <td>NaN</td>\n",
       "      <td>NaN</td>\n",
       "      <td>NaN</td>\n",
       "      <td>NaN</td>\n",
       "      <td>NaN</td>\n",
       "      <td>NaN</td>\n",
       "      <td>NaN</td>\n",
       "      <td>NaN</td>\n",
       "      <td>NaN</td>\n",
       "      <td>NaN</td>\n",
       "    </tr>\n",
       "    <tr>\n",
       "      <th>427</th>\n",
       "      <td>13.0</td>\n",
       "      <td>6.0</td>\n",
       "      <td>34.0</td>\n",
       "      <td>0.0</td>\n",
       "      <td>NaN</td>\n",
       "      <td>NaN</td>\n",
       "      <td>NaN</td>\n",
       "      <td>NaN</td>\n",
       "      <td>NaN</td>\n",
       "      <td>NaN</td>\n",
       "      <td>NaN</td>\n",
       "      <td>NaN</td>\n",
       "      <td>NaN</td>\n",
       "      <td>NaN</td>\n",
       "      <td>NaN</td>\n",
       "      <td>NaN</td>\n",
       "    </tr>\n",
       "    <tr>\n",
       "      <th>554</th>\n",
       "      <td>2.0</td>\n",
       "      <td>1.0</td>\n",
       "      <td>23.0</td>\n",
       "      <td>NaN</td>\n",
       "      <td>0.0</td>\n",
       "      <td>1.0</td>\n",
       "      <td>NaN</td>\n",
       "      <td>2.0</td>\n",
       "      <td>1.0</td>\n",
       "      <td>NaN</td>\n",
       "      <td>23.0</td>\n",
       "      <td>20.0</td>\n",
       "      <td>NaN</td>\n",
       "      <td>NaN</td>\n",
       "      <td>3.0</td>\n",
       "      <td>NaN</td>\n",
       "    </tr>\n",
       "    <tr>\n",
       "      <th>1767</th>\n",
       "      <td>4.0</td>\n",
       "      <td>9.0</td>\n",
       "      <td>26.0</td>\n",
       "      <td>0.0</td>\n",
       "      <td>NaN</td>\n",
       "      <td>NaN</td>\n",
       "      <td>NaN</td>\n",
       "      <td>NaN</td>\n",
       "      <td>NaN</td>\n",
       "      <td>NaN</td>\n",
       "      <td>NaN</td>\n",
       "      <td>NaN</td>\n",
       "      <td>NaN</td>\n",
       "      <td>NaN</td>\n",
       "      <td>NaN</td>\n",
       "      <td>NaN</td>\n",
       "    </tr>\n",
       "  </tbody>\n",
       "</table>\n",
       "</div>"
      ],
      "text/plain": [
       "      updrs_1_plus_0_months  updrs_2_plus_0_months  updrs_3_plus_0_months  \\\n",
       "23                      6.0                    3.0                   11.0   \n",
       "1903                    0.0                    1.0                   20.0   \n",
       "427                    13.0                    6.0                   34.0   \n",
       "554                     2.0                    1.0                   23.0   \n",
       "1767                    4.0                    9.0                   26.0   \n",
       "\n",
       "      updrs_4_plus_0_months  updrs_1_plus_6_months  updrs_1_plus_12_months  \\\n",
       "23                      6.0                    NaN                     NaN   \n",
       "1903                    NaN                    NaN                     NaN   \n",
       "427                     0.0                    NaN                     NaN   \n",
       "554                     NaN                    0.0                     1.0   \n",
       "1767                    0.0                    NaN                     NaN   \n",
       "\n",
       "      updrs_1_plus_24_months  updrs_2_plus_6_months  updrs_2_plus_12_months  \\\n",
       "23                       NaN                    NaN                     NaN   \n",
       "1903                     NaN                    NaN                     NaN   \n",
       "427                      NaN                    NaN                     NaN   \n",
       "554                      NaN                    2.0                     1.0   \n",
       "1767                     NaN                    NaN                     NaN   \n",
       "\n",
       "      updrs_2_plus_24_months  updrs_3_plus_6_months  updrs_3_plus_12_months  \\\n",
       "23                       NaN                    NaN                     NaN   \n",
       "1903                     NaN                    NaN                     NaN   \n",
       "427                      NaN                    NaN                     NaN   \n",
       "554                      NaN                   23.0                    20.0   \n",
       "1767                     NaN                    NaN                     NaN   \n",
       "\n",
       "      updrs_3_plus_24_months  updrs_4_plus_6_months  updrs_4_plus_12_months  \\\n",
       "23                       NaN                    NaN                     NaN   \n",
       "1903                     NaN                    NaN                     NaN   \n",
       "427                      NaN                    NaN                     NaN   \n",
       "554                      NaN                    NaN                     3.0   \n",
       "1767                     NaN                    NaN                     NaN   \n",
       "\n",
       "      updrs_4_plus_24_months  \n",
       "23                       NaN  \n",
       "1903                     NaN  \n",
       "427                      NaN  \n",
       "554                      NaN  \n",
       "1767                     NaN  "
      ]
     },
     "execution_count": 13,
     "metadata": {},
     "output_type": "execute_result"
    }
   ],
   "source": [
    "# Split the supplemental_clinical_data into a train/test set\n",
    "from sklearn.model_selection import train_test_split\n",
    "\n",
    "# Split the post-processed supplemental into data and labels\n",
    "supp_X = supp_clinical_df_pp[['visit_month']].reset_index(drop=True)\n",
    "supp_y = supp_clinical_df_pp.drop(columns=['patient_id', 'visit_month', 'upd23b_clinical_state_on_medication'],).reset_index(drop=True)\n",
    "\n",
    "supp_X.head()\n",
    "supp_y.head()\n",
    "\n",
    "print(supp_X.shape)\n",
    "print(supp_y.shape)\n",
    "\n",
    "# Split 80/20 into train and test data\n",
    "# Not sure if we'll end up using this or k-fold cv\n",
    "pre_train_X, pre_test_X, pre_train_y, pre_test_y = train_test_split(supp_X, supp_y, test_size=0.2, random_state=42)\n",
    "\n",
    "pre_train_X.head()\n",
    "pre_train_y.head()\n",
    "\n",
    "# Turns out, there's a lot of holes in this data\n",
    "# print(supp_y.isna().sum().sum())\n",
    "# print(supp_y.dropna().shape)"
   ]
  },
  {
   "cell_type": "code",
   "execution_count": 14,
   "id": "e0c86750",
   "metadata": {
    "execution": {
     "iopub.execute_input": "2023-04-10T14:55:03.588562Z",
     "iopub.status.busy": "2023-04-10T14:55:03.588245Z",
     "iopub.status.idle": "2023-04-10T14:55:09.072335Z",
     "shell.execute_reply": "2023-04-10T14:55:09.071160Z"
    },
    "papermill": {
     "duration": 5.505287,
     "end_time": "2023-04-10T14:55:09.075022",
     "exception": false,
     "start_time": "2023-04-10T14:55:03.569735",
     "status": "completed"
    },
    "tags": []
   },
   "outputs": [],
   "source": [
    "from numpy import mean\n",
    "from numpy import std\n",
    "from sklearn.model_selection import RepeatedKFold\n",
    "from tensorflow.keras.models import Sequential\n",
    "from tensorflow.keras.layers import Dense\n",
    "from keras.layers import Dropout\n",
    "\n",
    "# Define our multi-output regression model\n",
    "def multi_output_regression_model(n_inputs, n_outputs, extra_dense=False, dropout=False):\n",
    "    # print(\"Building a model with \" + str(n_inputs) + \" inputs and \" + str(n_outputs) + \" outputs.\")\n",
    "    model = Sequential()\n",
    "    model.add(Dense(16, input_dim=n_inputs, kernel_initializer='he_uniform', activation='tanh'))\n",
    "    model.add(Dropout(0.2))\n",
    "    if extra_dense:\n",
    "        model.add(Dense(64, activation='tanh'))\n",
    "    if dropout:\n",
    "        model.add(Dropout(0.2))\n",
    "    if extra_dense:\n",
    "        model.add(Dense(32, activation='tanh'))\n",
    "    if dropout:        \n",
    "        model.add(Dropout(0.2))\n",
    "    model.add(Dense(n_outputs))\n",
    "    model.compile(loss='mae', optimizer='adam')\n",
    "    return model\n",
    "\n",
    "# Define a k-fold cross validation\n",
    "def evaluate_model(X, y, dense=False, dropout=False):\n",
    "    results = list()\n",
    "    n_inputs, n_outputs = X.shape[1], y.shape[1]\n",
    "    # print(\"Multi-output shape of inputs/outputs: \" + str(n_inputs) + \":\" + str(n_outputs))\n",
    "    # define evaluation procedure\n",
    "    cv = RepeatedKFold(n_splits=10, n_repeats=3, random_state=256)\n",
    "    # enumerate folds\n",
    "    for train_ix, test_ix in cv.split(X):\n",
    "        # prepare data\n",
    "        X_train, X_test = X.iloc[train_ix], X.iloc[test_ix]\n",
    "        y_train, y_test = y.iloc[train_ix], y.iloc[test_ix]\n",
    "        # define model\n",
    "        model = multi_output_regression_model(n_inputs, n_outputs, dense, dropout)\n",
    "        # fit model\n",
    "        model.fit(X_train, y_train, verbose=0, epochs=100)\n",
    "        # evaluate model on test set\n",
    "        mae = model.evaluate(X_test, y_test, verbose=0)\n",
    "        # store result\n",
    "        print('>%.3f' % mae)\n",
    "        results.append(mae)\n",
    "    return results\n"
   ]
  },
  {
   "cell_type": "code",
   "execution_count": 15,
   "id": "5738cd65",
   "metadata": {
    "execution": {
     "iopub.execute_input": "2023-04-10T14:55:09.110480Z",
     "iopub.status.busy": "2023-04-10T14:55:09.109554Z",
     "iopub.status.idle": "2023-04-10T14:55:09.115224Z",
     "shell.execute_reply": "2023-04-10T14:55:09.114217Z"
    },
    "papermill": {
     "duration": 0.025086,
     "end_time": "2023-04-10T14:55:09.117380",
     "exception": false,
     "start_time": "2023-04-10T14:55:09.092294",
     "status": "completed"
    },
    "tags": []
   },
   "outputs": [],
   "source": [
    "# Let's try it\n",
    "if 'rerun_all' in locals() and rerun_all:\n",
    "    results = evaluate_model(supp_X, supp_y)\n",
    "\n",
    "    # summarize performance\n",
    "    print('MAE: %.3f (%.3f)' % (mean(results), std(results)))"
   ]
  },
  {
   "cell_type": "markdown",
   "id": "4562d55a",
   "metadata": {
    "papermill": {
     "duration": 0.015543,
     "end_time": "2023-04-10T14:55:09.148661",
     "exception": false,
     "start_time": "2023-04-10T14:55:09.133118",
     "status": "completed"
    },
    "tags": []
   },
   "source": [
    "## About 56% of this data is missing, \n",
    "And the regression model isn't converging, so using it as a pre-training may not be particularly effective after all. \n",
    "\n",
    "For now, I'll move on to training the clinical data, and circle back to this if time allows.\n",
    "\n",
    "## Update\n",
    "Coming back from working with clinical data, I've discovered that NANs are throwing this learning and that imputing missing values is pretty effective. I'll try the same approach here.\n",
    "\n",
    "As noted later on, I'm using KNN impute only, because it's consistently equal to or perhaps trivially better than Iterative impute."
   ]
  },
  {
   "cell_type": "code",
   "execution_count": 16,
   "id": "93eca278",
   "metadata": {
    "execution": {
     "iopub.execute_input": "2023-04-10T14:55:09.182433Z",
     "iopub.status.busy": "2023-04-10T14:55:09.181447Z",
     "iopub.status.idle": "2023-04-10T14:55:09.873050Z",
     "shell.execute_reply": "2023-04-10T14:55:09.870857Z"
    },
    "papermill": {
     "duration": 0.710798,
     "end_time": "2023-04-10T14:55:09.875388",
     "exception": false,
     "start_time": "2023-04-10T14:55:09.164590",
     "status": "completed"
    },
    "tags": []
   },
   "outputs": [
    {
     "name": "stdout",
     "output_type": "stream",
     "text": [
      "20126\n",
      "0\n",
      "CPU times: user 713 ms, sys: 188 ms, total: 900 ms\n",
      "Wall time: 683 ms\n"
     ]
    }
   ],
   "source": [
    "%%time\n",
    "print(supp_y.isna().sum().sum())\n",
    "knn_imputer = KNNImputer(\n",
    "    weights='uniform',\n",
    "    n_neighbors=10,\n",
    ")\n",
    "\n",
    "# fit the imputer\n",
    "supp_y_knn_array = knn_imputer.fit_transform(supp_y)\n",
    "supp_y_knn = pd.DataFrame(\n",
    "    data=supp_y_knn_array,\n",
    "    columns=supp_y.columns,\n",
    "    index=supp_y.index,\n",
    ")\n",
    "\n",
    "# save to parquet\n",
    "supp_y_knn.to_parquet(\n",
    "    'supp_clinical_data_KNN_impute.parquet',\n",
    ")\n",
    "print(supp_y_knn.isna().sum().sum())"
   ]
  },
  {
   "cell_type": "code",
   "execution_count": 17,
   "id": "06a19f5b",
   "metadata": {
    "execution": {
     "iopub.execute_input": "2023-04-10T14:55:09.908650Z",
     "iopub.status.busy": "2023-04-10T14:55:09.908290Z",
     "iopub.status.idle": "2023-04-10T14:55:09.918185Z",
     "shell.execute_reply": "2023-04-10T14:55:09.917200Z"
    },
    "papermill": {
     "duration": 0.029024,
     "end_time": "2023-04-10T14:55:09.920385",
     "exception": false,
     "start_time": "2023-04-10T14:55:09.891361",
     "status": "completed"
    },
    "tags": []
   },
   "outputs": [
    {
     "name": "stdout",
     "output_type": "stream",
     "text": [
      "0\n",
      "0\n"
     ]
    }
   ],
   "source": [
    "# Repeat using KNN Imputed Supplemental Clinical Data\n",
    "print(supp_X.isna().sum().sum())\n",
    "print(supp_y_knn.isna().sum().sum())\n",
    "\n",
    "if 'rerun_all' in locals() and rerun_all:\n",
    "    results = evaluate_model(supp_X, supp_y_knn)\n",
    "\n",
    "    # summarize performance\n",
    "    print('MAE: %.3f (%.3f)' % (mean(results), std(results)))"
   ]
  },
  {
   "cell_type": "markdown",
   "id": "1c1eeab6",
   "metadata": {
    "papermill": {
     "duration": 0.015305,
     "end_time": "2023-04-10T14:55:09.951610",
     "exception": false,
     "start_time": "2023-04-10T14:55:09.936305",
     "status": "completed"
    },
    "tags": []
   },
   "source": [
    "# Summary of results: \n",
    "\n",
    "Using KNN to impute missing UPDRS scores yields the following - not bad!\n",
    "\n",
    "**MAE: 3.913 STD: 0.123**"
   ]
  },
  {
   "cell_type": "markdown",
   "id": "003f3f28",
   "metadata": {
    "papermill": {
     "duration": 0.015597,
     "end_time": "2023-04-10T14:55:09.982628",
     "exception": false,
     "start_time": "2023-04-10T14:55:09.967031",
     "status": "completed"
    },
    "tags": []
   },
   "source": [
    "# Train on Clinical Data\n",
    "\n"
   ]
  },
  {
   "cell_type": "code",
   "execution_count": 18,
   "id": "3263b701",
   "metadata": {
    "execution": {
     "iopub.execute_input": "2023-04-10T14:55:10.015865Z",
     "iopub.status.busy": "2023-04-10T14:55:10.014936Z",
     "iopub.status.idle": "2023-04-10T14:55:10.021541Z",
     "shell.execute_reply": "2023-04-10T14:55:10.020573Z"
    },
    "papermill": {
     "duration": 0.025412,
     "end_time": "2023-04-10T14:55:10.023652",
     "exception": false,
     "start_time": "2023-04-10T14:55:09.998240",
     "status": "completed"
    },
    "tags": []
   },
   "outputs": [],
   "source": [
    "def merge_align_split(data, labels, join_col, drop_na):\n",
    "    data_cols = list(data.columns)\n",
    "    label_cols = list(labels.columns)\n",
    "    merge_df = pd.merge(data, labels, how='inner', on = join_col)\n",
    "    if drop_na:\n",
    "        merge_df = merge_df.dropna()\n",
    "    out_X = merge_df.drop(columns=label_cols,).reset_index(drop=True)\n",
    "    out_y = merge_df.drop(columns=data_cols,).reset_index(drop=True)\n",
    "    return out_X, out_y"
   ]
  },
  {
   "cell_type": "code",
   "execution_count": 19,
   "id": "e2b9729e",
   "metadata": {
    "execution": {
     "iopub.execute_input": "2023-04-10T14:55:10.056474Z",
     "iopub.status.busy": "2023-04-10T14:55:10.055897Z",
     "iopub.status.idle": "2023-04-10T14:55:10.181646Z",
     "shell.execute_reply": "2023-04-10T14:55:10.180486Z"
    },
    "papermill": {
     "duration": 0.144852,
     "end_time": "2023-04-10T14:55:10.183933",
     "exception": false,
     "start_time": "2023-04-10T14:55:10.039081",
     "status": "completed"
    },
    "tags": []
   },
   "outputs": [
    {
     "name": "stdout",
     "output_type": "stream",
     "text": [
      "(1113, 1195)\n",
      "(1113, 1195)\n",
      "(2615, 19)\n",
      "(4838, 19)\n",
      "(1068, 1214)\n"
     ]
    },
    {
     "data": {
      "text/html": [
       "<div>\n",
       "<style scoped>\n",
       "    .dataframe tbody tr th:only-of-type {\n",
       "        vertical-align: middle;\n",
       "    }\n",
       "\n",
       "    .dataframe tbody tr th {\n",
       "        vertical-align: top;\n",
       "    }\n",
       "\n",
       "    .dataframe thead th {\n",
       "        text-align: right;\n",
       "    }\n",
       "</style>\n",
       "<table border=\"1\" class=\"dataframe\">\n",
       "  <thead>\n",
       "    <tr style=\"text-align: right;\">\n",
       "      <th></th>\n",
       "      <th>updrs_1_plus_0_months</th>\n",
       "      <th>updrs_2_plus_0_months</th>\n",
       "      <th>updrs_3_plus_0_months</th>\n",
       "      <th>updrs_4_plus_0_months</th>\n",
       "      <th>updrs_1_plus_6_months</th>\n",
       "      <th>updrs_1_plus_12_months</th>\n",
       "      <th>updrs_1_plus_24_months</th>\n",
       "      <th>updrs_2_plus_6_months</th>\n",
       "      <th>updrs_2_plus_12_months</th>\n",
       "      <th>updrs_2_plus_24_months</th>\n",
       "      <th>updrs_3_plus_6_months</th>\n",
       "      <th>updrs_3_plus_12_months</th>\n",
       "      <th>updrs_3_plus_24_months</th>\n",
       "      <th>updrs_4_plus_6_months</th>\n",
       "      <th>updrs_4_plus_12_months</th>\n",
       "      <th>updrs_4_plus_24_months</th>\n",
       "    </tr>\n",
       "  </thead>\n",
       "  <tbody>\n",
       "    <tr>\n",
       "      <th>0</th>\n",
       "      <td>3.0</td>\n",
       "      <td>6.0</td>\n",
       "      <td>31.0</td>\n",
       "      <td>0.0</td>\n",
       "      <td>6.0</td>\n",
       "      <td>4.0</td>\n",
       "      <td>5.0</td>\n",
       "      <td>11.0</td>\n",
       "      <td>7.0</td>\n",
       "      <td>2.0</td>\n",
       "      <td>25.0</td>\n",
       "      <td>19.0</td>\n",
       "      <td>11.0</td>\n",
       "      <td>1.0</td>\n",
       "      <td>10.0</td>\n",
       "      <td>0.0</td>\n",
       "    </tr>\n",
       "    <tr>\n",
       "      <th>1</th>\n",
       "      <td>17.0</td>\n",
       "      <td>13.0</td>\n",
       "      <td>30.0</td>\n",
       "      <td>0.0</td>\n",
       "      <td>15.0</td>\n",
       "      <td>14.0</td>\n",
       "      <td>15.0</td>\n",
       "      <td>11.0</td>\n",
       "      <td>8.0</td>\n",
       "      <td>6.0</td>\n",
       "      <td>25.0</td>\n",
       "      <td>26.0</td>\n",
       "      <td>26.0</td>\n",
       "      <td>0.0</td>\n",
       "      <td>0.0</td>\n",
       "      <td>0.0</td>\n",
       "    </tr>\n",
       "    <tr>\n",
       "      <th>2</th>\n",
       "      <td>14.0</td>\n",
       "      <td>8.0</td>\n",
       "      <td>26.0</td>\n",
       "      <td>0.0</td>\n",
       "      <td>15.0</td>\n",
       "      <td>15.0</td>\n",
       "      <td>14.0</td>\n",
       "      <td>9.0</td>\n",
       "      <td>6.0</td>\n",
       "      <td>6.0</td>\n",
       "      <td>35.0</td>\n",
       "      <td>26.0</td>\n",
       "      <td>41.0</td>\n",
       "      <td>0.0</td>\n",
       "      <td>0.0</td>\n",
       "      <td>4.0</td>\n",
       "    </tr>\n",
       "    <tr>\n",
       "      <th>3</th>\n",
       "      <td>15.0</td>\n",
       "      <td>6.0</td>\n",
       "      <td>26.0</td>\n",
       "      <td>0.0</td>\n",
       "      <td>14.0</td>\n",
       "      <td>14.0</td>\n",
       "      <td>13.0</td>\n",
       "      <td>11.0</td>\n",
       "      <td>6.0</td>\n",
       "      <td>9.0</td>\n",
       "      <td>29.0</td>\n",
       "      <td>41.0</td>\n",
       "      <td>18.0</td>\n",
       "      <td>5.0</td>\n",
       "      <td>4.0</td>\n",
       "      <td>0.0</td>\n",
       "    </tr>\n",
       "    <tr>\n",
       "      <th>4</th>\n",
       "      <td>6.0</td>\n",
       "      <td>1.0</td>\n",
       "      <td>21.0</td>\n",
       "      <td>0.0</td>\n",
       "      <td>10.0</td>\n",
       "      <td>7.0</td>\n",
       "      <td>2.0</td>\n",
       "      <td>6.0</td>\n",
       "      <td>3.0</td>\n",
       "      <td>2.0</td>\n",
       "      <td>30.0</td>\n",
       "      <td>18.0</td>\n",
       "      <td>21.0</td>\n",
       "      <td>0.0</td>\n",
       "      <td>0.0</td>\n",
       "      <td>0.0</td>\n",
       "    </tr>\n",
       "  </tbody>\n",
       "</table>\n",
       "</div>"
      ],
      "text/plain": [
       "   updrs_1_plus_0_months  updrs_2_plus_0_months  updrs_3_plus_0_months  \\\n",
       "0                    3.0                    6.0                   31.0   \n",
       "1                   17.0                   13.0                   30.0   \n",
       "2                   14.0                    8.0                   26.0   \n",
       "3                   15.0                    6.0                   26.0   \n",
       "4                    6.0                    1.0                   21.0   \n",
       "\n",
       "   updrs_4_plus_0_months  updrs_1_plus_6_months  updrs_1_plus_12_months  \\\n",
       "0                    0.0                    6.0                     4.0   \n",
       "1                    0.0                   15.0                    14.0   \n",
       "2                    0.0                   15.0                    15.0   \n",
       "3                    0.0                   14.0                    14.0   \n",
       "4                    0.0                   10.0                     7.0   \n",
       "\n",
       "   updrs_1_plus_24_months  updrs_2_plus_6_months  updrs_2_plus_12_months  \\\n",
       "0                     5.0                   11.0                     7.0   \n",
       "1                    15.0                   11.0                     8.0   \n",
       "2                    14.0                    9.0                     6.0   \n",
       "3                    13.0                   11.0                     6.0   \n",
       "4                     2.0                    6.0                     3.0   \n",
       "\n",
       "   updrs_2_plus_24_months  updrs_3_plus_6_months  updrs_3_plus_12_months  \\\n",
       "0                     2.0                   25.0                    19.0   \n",
       "1                     6.0                   25.0                    26.0   \n",
       "2                     6.0                   35.0                    26.0   \n",
       "3                     9.0                   29.0                    41.0   \n",
       "4                     2.0                   30.0                    18.0   \n",
       "\n",
       "   updrs_3_plus_24_months  updrs_4_plus_6_months  updrs_4_plus_12_months  \\\n",
       "0                    11.0                    1.0                    10.0   \n",
       "1                    26.0                    0.0                     0.0   \n",
       "2                    41.0                    0.0                     0.0   \n",
       "3                    18.0                    5.0                     4.0   \n",
       "4                    21.0                    0.0                     0.0   \n",
       "\n",
       "   updrs_4_plus_24_months  \n",
       "0                     0.0  \n",
       "1                     0.0  \n",
       "2                     4.0  \n",
       "3                     0.0  \n",
       "4                     0.0  "
      ]
     },
     "execution_count": 19,
     "metadata": {},
     "output_type": "execute_result"
    }
   ],
   "source": [
    "# Join clinical data with peptide data to align indices\n",
    "iter_prot_and_peps_df.head()\n",
    "print(iter_prot_and_peps_df.shape)\n",
    "knn_prot_and_peps_df.head()\n",
    "print(knn_prot_and_peps_df.shape)\n",
    "clinical_df_pp.head()\n",
    "print(clinical_df_pp.shape)\n",
    "\n",
    "# Sanity check to make sure there's no protein/peptide data in the supplemental dataset\n",
    "all_clinical_df = clinical_df_pp.append(supp_clinical_df_pp)\n",
    "print(all_clinical_df.shape)\n",
    "all_clinical_df.head()\n",
    "all_clinical_df_iter = pd.merge(all_clinical_df, iter_prot_and_peps_df, how='inner', on = 'visit_id')\n",
    "print(all_clinical_df_iter.shape)\n",
    "\n",
    "# Align the protein/peptide data to order it with the clinical\n",
    "iter_X, y = merge_align_split(iter_prot_and_peps_df, clinical_df_pp, 'visit_id', False)\n",
    "knn_X, y = merge_align_split(knn_prot_and_peps_df, clinical_df_pp, 'visit_id', False)\n",
    "\n",
    "y = y.drop(columns=['patient_id', 'visit_month', 'upd23b_clinical_state_on_medication'],)\n",
    "\n",
    "# Try dropping NAN columns...but this reduces our dataset to nothing\n",
    "iter_X_dropNA, y_dropNA = merge_align_split(iter_prot_and_peps_df, clinical_df_pp, 'visit_id', True)\n",
    "knn_X_dropNA, y_dropNA = merge_align_split(knn_prot_and_peps_df, clinical_df_pp, 'visit_id', True)\n",
    "\n",
    "y_dropNA = y_dropNA.drop(columns=['patient_id', 'visit_month', 'upd23b_clinical_state_on_medication'],)\n",
    "\n",
    "y_dropNA.head()"
   ]
  },
  {
   "cell_type": "code",
   "execution_count": 20,
   "id": "bca2a545",
   "metadata": {
    "execution": {
     "iopub.execute_input": "2023-04-10T14:55:10.218258Z",
     "iopub.status.busy": "2023-04-10T14:55:10.217299Z",
     "iopub.status.idle": "2023-04-10T14:55:10.222615Z",
     "shell.execute_reply": "2023-04-10T14:55:10.221679Z"
    },
    "papermill": {
     "duration": 0.024483,
     "end_time": "2023-04-10T14:55:10.224698",
     "exception": false,
     "start_time": "2023-04-10T14:55:10.200215",
     "status": "completed"
    },
    "tags": []
   },
   "outputs": [],
   "source": [
    "# Let's try it again using the Iterative data!\n",
    "# Since we've abstracted it into a function, we can reuse our earlier work\n",
    "if 'rerun_all' in locals() and rerun_all:\n",
    "    results = evaluate_model(iter_X, y)\n",
    "\n",
    "    # summarize performance\n",
    "    print('MAE: %.3f (%.3f)' % (mean(results), std(results)))"
   ]
  },
  {
   "cell_type": "code",
   "execution_count": 21,
   "id": "6b9c361d",
   "metadata": {
    "execution": {
     "iopub.execute_input": "2023-04-10T14:55:10.257482Z",
     "iopub.status.busy": "2023-04-10T14:55:10.257194Z",
     "iopub.status.idle": "2023-04-10T14:55:10.262170Z",
     "shell.execute_reply": "2023-04-10T14:55:10.261137Z"
    },
    "papermill": {
     "duration": 0.02383,
     "end_time": "2023-04-10T14:55:10.264251",
     "exception": false,
     "start_time": "2023-04-10T14:55:10.240421",
     "status": "completed"
    },
    "tags": []
   },
   "outputs": [],
   "source": [
    "# Let's try it again using the KNN data!\n",
    "# Since we've abstracted it into a function, we can reuse our earlier work\n",
    "if 'rerun_all' in locals() and rerun_all:\n",
    "    results = evaluate_model(knn_X, y)\n",
    "\n",
    "    # summarize performance\n",
    "    print('MAE: %.3f (%.3f)' % (mean(results), std(results)))"
   ]
  },
  {
   "cell_type": "markdown",
   "id": "408e3283",
   "metadata": {
    "papermill": {
     "duration": 0.015841,
     "end_time": "2023-04-10T14:55:10.296401",
     "exception": false,
     "start_time": "2023-04-10T14:55:10.280560",
     "status": "completed"
    },
    "tags": []
   },
   "source": [
    "## Again, no convergence\n",
    "So I need to explore other models, and hyperparameter tuning.\n",
    "\n",
    "# Searching for Signal \n",
    "via Enhanced Data Processing"
   ]
  },
  {
   "cell_type": "markdown",
   "id": "135ed220",
   "metadata": {
    "papermill": {
     "duration": 0.015702,
     "end_time": "2023-04-10T14:55:10.327922",
     "exception": false,
     "start_time": "2023-04-10T14:55:10.312220",
     "status": "completed"
    },
    "tags": []
   },
   "source": [
    "## Replacing NANs with 0's gives signal!\n",
    "\n",
    "So finally I can compare the missing values imputed with Iterative vs KNN.\n",
    "\n",
    "Since they are performing pretty equally, I also with added Dense layers and dropout. More hyperparameter tuning will come later, it's just a sanity check to see if performance dramatically improves with a larger model."
   ]
  },
  {
   "cell_type": "code",
   "execution_count": 22,
   "id": "3ae006c5",
   "metadata": {
    "execution": {
     "iopub.execute_input": "2023-04-10T14:55:10.361044Z",
     "iopub.status.busy": "2023-04-10T14:55:10.360728Z",
     "iopub.status.idle": "2023-04-10T14:55:10.365872Z",
     "shell.execute_reply": "2023-04-10T14:55:10.364862Z"
    },
    "papermill": {
     "duration": 0.024225,
     "end_time": "2023-04-10T14:55:10.367959",
     "exception": false,
     "start_time": "2023-04-10T14:55:10.343734",
     "status": "completed"
    },
    "tags": []
   },
   "outputs": [],
   "source": [
    "# Let's try replacing NANs with 0's\n",
    "if 'rerun_all' in locals() and rerun_all:\n",
    "    results = evaluate_model(iter_X.fillna(0), y.fillna(0), False, False)\n",
    "\n",
    "    # summarize performance\n",
    "    print('MAE: %.3f (%.3f)' % (mean(results), std(results)))\n",
    "\n",
    "# SIGNAL!!!"
   ]
  },
  {
   "cell_type": "code",
   "execution_count": 23,
   "id": "dd08c172",
   "metadata": {
    "execution": {
     "iopub.execute_input": "2023-04-10T14:55:10.401002Z",
     "iopub.status.busy": "2023-04-10T14:55:10.400724Z",
     "iopub.status.idle": "2023-04-10T14:55:10.405708Z",
     "shell.execute_reply": "2023-04-10T14:55:10.404666Z"
    },
    "papermill": {
     "duration": 0.02374,
     "end_time": "2023-04-10T14:55:10.407729",
     "exception": false,
     "start_time": "2023-04-10T14:55:10.383989",
     "status": "completed"
    },
    "tags": []
   },
   "outputs": [],
   "source": [
    "# Repeat, using dense models and dropout\n",
    "if 'rerun_all' in locals() and rerun_all:\n",
    "    results = evaluate_model(iter_X.fillna(0), y.fillna(0), True, True)\n",
    "\n",
    "    # summarize performance\n",
    "    print('MAE: %.3f (%.3f)' % (mean(results), std(results)))"
   ]
  },
  {
   "cell_type": "code",
   "execution_count": 24,
   "id": "60a53035",
   "metadata": {
    "execution": {
     "iopub.execute_input": "2023-04-10T14:55:10.441167Z",
     "iopub.status.busy": "2023-04-10T14:55:10.440478Z",
     "iopub.status.idle": "2023-04-10T14:55:10.445388Z",
     "shell.execute_reply": "2023-04-10T14:55:10.444429Z"
    },
    "papermill": {
     "duration": 0.023646,
     "end_time": "2023-04-10T14:55:10.447400",
     "exception": false,
     "start_time": "2023-04-10T14:55:10.423754",
     "status": "completed"
    },
    "tags": []
   },
   "outputs": [],
   "source": [
    "# Repeat with KNN\n",
    "if 'rerun_all' in locals() and rerun_all:\n",
    "    results = evaluate_model(knn_X.fillna(0), y.fillna(0), False, False)\n",
    "\n",
    "    # summarize performance\n",
    "    print('MAE: %.3f (%.3f)' % (mean(results), std(results)))"
   ]
  },
  {
   "cell_type": "code",
   "execution_count": 25,
   "id": "aba1fefe",
   "metadata": {
    "execution": {
     "iopub.execute_input": "2023-04-10T14:55:10.480643Z",
     "iopub.status.busy": "2023-04-10T14:55:10.479868Z",
     "iopub.status.idle": "2023-04-10T14:55:10.485261Z",
     "shell.execute_reply": "2023-04-10T14:55:10.484354Z"
    },
    "papermill": {
     "duration": 0.024129,
     "end_time": "2023-04-10T14:55:10.487300",
     "exception": false,
     "start_time": "2023-04-10T14:55:10.463171",
     "status": "completed"
    },
    "tags": []
   },
   "outputs": [],
   "source": [
    "# Repeat with KNN using dense layers and dropout\n",
    "if 'rerun_all' in locals() and rerun_all:\n",
    "    results = evaluate_model(knn_X.fillna(0), y.fillna(0), True, True)\n",
    "\n",
    "    # summarize performance\n",
    "    print('MAE: %.3f (%.3f)' % (mean(results), std(results)))"
   ]
  },
  {
   "cell_type": "markdown",
   "id": "ed97df5b",
   "metadata": {
    "papermill": {
     "duration": 0.015571,
     "end_time": "2023-04-10T14:55:10.518724",
     "exception": false,
     "start_time": "2023-04-10T14:55:10.503153",
     "status": "completed"
    },
    "tags": []
   },
   "source": [
    "## Finally, let's try with just protein data, and just peptide data"
   ]
  },
  {
   "cell_type": "code",
   "execution_count": 26,
   "id": "bce78885",
   "metadata": {
    "execution": {
     "iopub.execute_input": "2023-04-10T14:55:10.551941Z",
     "iopub.status.busy": "2023-04-10T14:55:10.551388Z",
     "iopub.status.idle": "2023-04-10T14:55:10.558223Z",
     "shell.execute_reply": "2023-04-10T14:55:10.557189Z"
    },
    "papermill": {
     "duration": 0.026103,
     "end_time": "2023-04-10T14:55:10.560560",
     "exception": false,
     "start_time": "2023-04-10T14:55:10.534457",
     "status": "completed"
    },
    "tags": []
   },
   "outputs": [],
   "source": [
    "# Repeat, using Protein data on the Iterative imputed dataset\n",
    "iter_X_prot = iter_X[protein_cols]\n",
    "if 'rerun_all' in locals() and rerun_all:\n",
    "    results = evaluate_model(iter_X_prot.fillna(0), y.fillna(0), True, True)\n",
    "\n",
    "    # summarize performance\n",
    "    print('MAE: %.3f (%.3f)' % (mean(results), std(results)))"
   ]
  },
  {
   "cell_type": "code",
   "execution_count": 27,
   "id": "7f648074",
   "metadata": {
    "execution": {
     "iopub.execute_input": "2023-04-10T14:55:10.594048Z",
     "iopub.status.busy": "2023-04-10T14:55:10.593254Z",
     "iopub.status.idle": "2023-04-10T14:55:10.601682Z",
     "shell.execute_reply": "2023-04-10T14:55:10.600813Z"
    },
    "papermill": {
     "duration": 0.027385,
     "end_time": "2023-04-10T14:55:10.603766",
     "exception": false,
     "start_time": "2023-04-10T14:55:10.576381",
     "status": "completed"
    },
    "tags": []
   },
   "outputs": [],
   "source": [
    "# Repeat, using Peptide data on the Iterative imputed dataset\n",
    "iter_X_pep = iter_X[peptide_cols]\n",
    "if 'rerun_all' in locals() and rerun_all:\n",
    "    results = evaluate_model(iter_X_pep.fillna(0), y.fillna(0), True, True)\n",
    "\n",
    "    # summarize performance\n",
    "    print('MAE: %.3f (%.3f)' % (mean(results), std(results)))"
   ]
  },
  {
   "cell_type": "code",
   "execution_count": 28,
   "id": "b64c7867",
   "metadata": {
    "execution": {
     "iopub.execute_input": "2023-04-10T14:55:10.637034Z",
     "iopub.status.busy": "2023-04-10T14:55:10.636767Z",
     "iopub.status.idle": "2023-04-10T14:55:10.644041Z",
     "shell.execute_reply": "2023-04-10T14:55:10.643120Z"
    },
    "papermill": {
     "duration": 0.026065,
     "end_time": "2023-04-10T14:55:10.646133",
     "exception": false,
     "start_time": "2023-04-10T14:55:10.620068",
     "status": "completed"
    },
    "tags": []
   },
   "outputs": [],
   "source": [
    "# Repeat, using Protein data on the KNN imputed dataset\n",
    "knn_X_prot = knn_X[protein_cols]\n",
    "if 'rerun_all' in locals() and rerun_all:\n",
    "    results = evaluate_model(knn_X_prot.fillna(0), y.fillna(0), True, True)\n",
    "\n",
    "    # summarize performance\n",
    "    print('MAE: %.3f (%.3f)' % (mean(results), std(results)))"
   ]
  },
  {
   "cell_type": "code",
   "execution_count": 29,
   "id": "cfcb0ae0",
   "metadata": {
    "execution": {
     "iopub.execute_input": "2023-04-10T14:55:10.679879Z",
     "iopub.status.busy": "2023-04-10T14:55:10.679089Z",
     "iopub.status.idle": "2023-04-10T14:55:10.687410Z",
     "shell.execute_reply": "2023-04-10T14:55:10.686548Z"
    },
    "papermill": {
     "duration": 0.027459,
     "end_time": "2023-04-10T14:55:10.689436",
     "exception": false,
     "start_time": "2023-04-10T14:55:10.661977",
     "status": "completed"
    },
    "tags": []
   },
   "outputs": [],
   "source": [
    "# Repeat, using Peptide data on the KNN imputed dataset\n",
    "knn_X_pep = knn_X[peptide_cols]\n",
    "if 'rerun_all' in locals() and rerun_all:\n",
    "    results = evaluate_model(knn_X_pep.fillna(0), y.fillna(0), True, True)\n",
    "\n",
    "    # summarize performance\n",
    "    print('MAE: %.3f (%.3f)' % (mean(results), std(results)))"
   ]
  },
  {
   "cell_type": "markdown",
   "id": "0360a155",
   "metadata": {
    "papermill": {
     "duration": 0.015811,
     "end_time": "2023-04-10T14:55:10.720995",
     "exception": false,
     "start_time": "2023-04-10T14:55:10.705184",
     "status": "completed"
    },
    "tags": []
   },
   "source": [
    "## NANs and Additional Data Processing\n",
    "\n",
    "For UPDRS_4 values, converting NAN to 0 feels appropriate since, as I understand it, the 4th section of the test is only administered if deemed necessary so if it was not administered, a score of 0 can be safely assumed.\n",
    "\n",
    "However, in cases where the visit was simply not conducted, 0 scores aren't appropriate and it would be better to impute those values based on their neighbors or perhaps drop them. This section experiments with that."
   ]
  },
  {
   "cell_type": "code",
   "execution_count": 30,
   "id": "03997952",
   "metadata": {
    "execution": {
     "iopub.execute_input": "2023-04-10T14:55:10.753817Z",
     "iopub.status.busy": "2023-04-10T14:55:10.753533Z",
     "iopub.status.idle": "2023-04-10T14:55:10.781320Z",
     "shell.execute_reply": "2023-04-10T14:55:10.780261Z"
    },
    "papermill": {
     "duration": 0.04705,
     "end_time": "2023-04-10T14:55:10.783875",
     "exception": false,
     "start_time": "2023-04-10T14:55:10.736825",
     "status": "completed"
    },
    "tags": []
   },
   "outputs": [
    {
     "name": "stdout",
     "output_type": "stream",
     "text": [
      "4510\n",
      "2462\n"
     ]
    },
    {
     "data": {
      "text/html": [
       "<div>\n",
       "<style scoped>\n",
       "    .dataframe tbody tr th:only-of-type {\n",
       "        vertical-align: middle;\n",
       "    }\n",
       "\n",
       "    .dataframe tbody tr th {\n",
       "        vertical-align: top;\n",
       "    }\n",
       "\n",
       "    .dataframe thead th {\n",
       "        text-align: right;\n",
       "    }\n",
       "</style>\n",
       "<table border=\"1\" class=\"dataframe\">\n",
       "  <thead>\n",
       "    <tr style=\"text-align: right;\">\n",
       "      <th></th>\n",
       "      <th>updrs_1_plus_0_months</th>\n",
       "      <th>updrs_2_plus_0_months</th>\n",
       "      <th>updrs_3_plus_0_months</th>\n",
       "      <th>updrs_4_plus_0_months</th>\n",
       "      <th>updrs_1_plus_6_months</th>\n",
       "      <th>updrs_1_plus_12_months</th>\n",
       "      <th>updrs_1_plus_24_months</th>\n",
       "      <th>updrs_2_plus_6_months</th>\n",
       "      <th>updrs_2_plus_12_months</th>\n",
       "      <th>updrs_2_plus_24_months</th>\n",
       "      <th>updrs_3_plus_6_months</th>\n",
       "      <th>updrs_3_plus_12_months</th>\n",
       "      <th>updrs_3_plus_24_months</th>\n",
       "      <th>updrs_4_plus_6_months</th>\n",
       "      <th>updrs_4_plus_12_months</th>\n",
       "      <th>updrs_4_plus_24_months</th>\n",
       "    </tr>\n",
       "  </thead>\n",
       "  <tbody>\n",
       "    <tr>\n",
       "      <th>0</th>\n",
       "      <td>3.0</td>\n",
       "      <td>0.0</td>\n",
       "      <td>13.0</td>\n",
       "      <td>0.0</td>\n",
       "      <td>2.0</td>\n",
       "      <td>4.0</td>\n",
       "      <td>4.0</td>\n",
       "      <td>4.0</td>\n",
       "      <td>2.0</td>\n",
       "      <td>3.0</td>\n",
       "      <td>5.0</td>\n",
       "      <td>8.0</td>\n",
       "      <td>0.0</td>\n",
       "      <td>0.0</td>\n",
       "      <td>0.0</td>\n",
       "      <td>0.0</td>\n",
       "    </tr>\n",
       "    <tr>\n",
       "      <th>1</th>\n",
       "      <td>4.0</td>\n",
       "      <td>2.0</td>\n",
       "      <td>8.0</td>\n",
       "      <td>0.0</td>\n",
       "      <td>2.0</td>\n",
       "      <td>4.0</td>\n",
       "      <td>NaN</td>\n",
       "      <td>2.0</td>\n",
       "      <td>3.0</td>\n",
       "      <td>NaN</td>\n",
       "      <td>0.0</td>\n",
       "      <td>0.0</td>\n",
       "      <td>NaN</td>\n",
       "      <td>0.0</td>\n",
       "      <td>0.0</td>\n",
       "      <td>0.0</td>\n",
       "    </tr>\n",
       "    <tr>\n",
       "      <th>2</th>\n",
       "      <td>2.0</td>\n",
       "      <td>2.0</td>\n",
       "      <td>0.0</td>\n",
       "      <td>0.0</td>\n",
       "      <td>4.0</td>\n",
       "      <td>NaN</td>\n",
       "      <td>NaN</td>\n",
       "      <td>3.0</td>\n",
       "      <td>NaN</td>\n",
       "      <td>NaN</td>\n",
       "      <td>0.0</td>\n",
       "      <td>NaN</td>\n",
       "      <td>NaN</td>\n",
       "      <td>0.0</td>\n",
       "      <td>0.0</td>\n",
       "      <td>0.0</td>\n",
       "    </tr>\n",
       "    <tr>\n",
       "      <th>3</th>\n",
       "      <td>3.0</td>\n",
       "      <td>6.0</td>\n",
       "      <td>31.0</td>\n",
       "      <td>0.0</td>\n",
       "      <td>6.0</td>\n",
       "      <td>4.0</td>\n",
       "      <td>5.0</td>\n",
       "      <td>11.0</td>\n",
       "      <td>7.0</td>\n",
       "      <td>2.0</td>\n",
       "      <td>25.0</td>\n",
       "      <td>19.0</td>\n",
       "      <td>11.0</td>\n",
       "      <td>1.0</td>\n",
       "      <td>10.0</td>\n",
       "      <td>0.0</td>\n",
       "    </tr>\n",
       "    <tr>\n",
       "      <th>4</th>\n",
       "      <td>4.0</td>\n",
       "      <td>7.0</td>\n",
       "      <td>19.0</td>\n",
       "      <td>10.0</td>\n",
       "      <td>10.0</td>\n",
       "      <td>5.0</td>\n",
       "      <td>NaN</td>\n",
       "      <td>10.0</td>\n",
       "      <td>2.0</td>\n",
       "      <td>NaN</td>\n",
       "      <td>20.0</td>\n",
       "      <td>11.0</td>\n",
       "      <td>NaN</td>\n",
       "      <td>5.0</td>\n",
       "      <td>0.0</td>\n",
       "      <td>0.0</td>\n",
       "    </tr>\n",
       "  </tbody>\n",
       "</table>\n",
       "</div>"
      ],
      "text/plain": [
       "   updrs_1_plus_0_months  updrs_2_plus_0_months  updrs_3_plus_0_months  \\\n",
       "0                    3.0                    0.0                   13.0   \n",
       "1                    4.0                    2.0                    8.0   \n",
       "2                    2.0                    2.0                    0.0   \n",
       "3                    3.0                    6.0                   31.0   \n",
       "4                    4.0                    7.0                   19.0   \n",
       "\n",
       "   updrs_4_plus_0_months  updrs_1_plus_6_months  updrs_1_plus_12_months  \\\n",
       "0                    0.0                    2.0                     4.0   \n",
       "1                    0.0                    2.0                     4.0   \n",
       "2                    0.0                    4.0                     NaN   \n",
       "3                    0.0                    6.0                     4.0   \n",
       "4                   10.0                   10.0                     5.0   \n",
       "\n",
       "   updrs_1_plus_24_months  updrs_2_plus_6_months  updrs_2_plus_12_months  \\\n",
       "0                     4.0                    4.0                     2.0   \n",
       "1                     NaN                    2.0                     3.0   \n",
       "2                     NaN                    3.0                     NaN   \n",
       "3                     5.0                   11.0                     7.0   \n",
       "4                     NaN                   10.0                     2.0   \n",
       "\n",
       "   updrs_2_plus_24_months  updrs_3_plus_6_months  updrs_3_plus_12_months  \\\n",
       "0                     3.0                    5.0                     8.0   \n",
       "1                     NaN                    0.0                     0.0   \n",
       "2                     NaN                    0.0                     NaN   \n",
       "3                     2.0                   25.0                    19.0   \n",
       "4                     NaN                   20.0                    11.0   \n",
       "\n",
       "   updrs_3_plus_24_months  updrs_4_plus_6_months  updrs_4_plus_12_months  \\\n",
       "0                     0.0                    0.0                     0.0   \n",
       "1                     NaN                    0.0                     0.0   \n",
       "2                     NaN                    0.0                     0.0   \n",
       "3                    11.0                    1.0                    10.0   \n",
       "4                     NaN                    5.0                     0.0   \n",
       "\n",
       "   updrs_4_plus_24_months  \n",
       "0                     0.0  \n",
       "1                     0.0  \n",
       "2                     0.0  \n",
       "3                     0.0  \n",
       "4                     0.0  "
      ]
     },
     "execution_count": 30,
     "metadata": {},
     "output_type": "execute_result"
    }
   ],
   "source": [
    "# Fill NAN UPDRS_4 values with 0\n",
    "print(y.isna().sum().sum())\n",
    "y[['updrs_4_plus_0_months', 'updrs_4_plus_6_months','updrs_4_plus_12_months', 'updrs_4_plus_24_months']] = y[['updrs_4_plus_0_months', 'updrs_4_plus_6_months','updrs_4_plus_12_months', 'updrs_4_plus_24_months']].fillna(value=0)\n",
    "print(y.isna().sum().sum())\n",
    "# In this case, looks like there actually weren't any NAN values in any UPDRS_4\n",
    "y.head()"
   ]
  },
  {
   "cell_type": "code",
   "execution_count": 31,
   "id": "b607a0a7",
   "metadata": {
    "execution": {
     "iopub.execute_input": "2023-04-10T14:55:10.818633Z",
     "iopub.status.busy": "2023-04-10T14:55:10.817166Z",
     "iopub.status.idle": "2023-04-10T14:55:11.390992Z",
     "shell.execute_reply": "2023-04-10T14:55:11.389489Z"
    },
    "papermill": {
     "duration": 0.594041,
     "end_time": "2023-04-10T14:55:11.394362",
     "exception": false,
     "start_time": "2023-04-10T14:55:10.800321",
     "status": "completed"
    },
    "tags": []
   },
   "outputs": [
    {
     "name": "stdout",
     "output_type": "stream",
     "text": [
      "2462\n",
      "[IterativeImputer] Completing matrix with shape (1068, 16)\n",
      "[IterativeImputer] Change: 104.40097674228639, scaled tolerance: 0.08600000000000001 \n",
      "[IterativeImputer] Change: 37.69813334271713, scaled tolerance: 0.08600000000000001 \n",
      "[IterativeImputer] Change: 22.484742356633557, scaled tolerance: 0.08600000000000001 \n",
      "[IterativeImputer] Change: 15.211615383838016, scaled tolerance: 0.08600000000000001 \n",
      "[IterativeImputer] Change: 10.766832527873536, scaled tolerance: 0.08600000000000001 \n",
      "[IterativeImputer] Change: 7.814567505924962, scaled tolerance: 0.08600000000000001 \n",
      "[IterativeImputer] Change: 5.719819802433435, scaled tolerance: 0.08600000000000001 \n",
      "[IterativeImputer] Change: 4.189443068809526, scaled tolerance: 0.08600000000000001 \n",
      "[IterativeImputer] Change: 3.069739565597332, scaled tolerance: 0.08600000000000001 \n",
      "[IterativeImputer] Change: 2.249738456901052, scaled tolerance: 0.08600000000000001 \n",
      "0\n",
      "CPU times: user 783 ms, sys: 308 ms, total: 1.09 s\n",
      "Wall time: 566 ms\n"
     ]
    },
    {
     "name": "stderr",
     "output_type": "stream",
     "text": [
      "/opt/conda/lib/python3.7/site-packages/sklearn/impute/_iterative.py:701: ConvergenceWarning: [IterativeImputer] Early stopping criterion not reached.\n",
      "  ConvergenceWarning,\n"
     ]
    }
   ],
   "source": [
    "%%time\n",
    "print(y.isna().sum().sum())\n",
    "iter_imputer = IterativeImputer(\n",
    "    max_iter=10,\n",
    "    n_nearest_features=25,\n",
    "    imputation_order='ascending',\n",
    "    random_state=0,\n",
    "    verbose=1,\n",
    ")\n",
    "\n",
    "# fit the imputer\n",
    "y_iter_array = iter_imputer.fit_transform(y)\n",
    "y_iter = pd.DataFrame(\n",
    "    data=y_iter_array,\n",
    "    columns=y.columns,\n",
    "    index=y.index,\n",
    ")\n",
    "\n",
    "# save to parquet\n",
    "y_iter.to_parquet(\n",
    "    'clinical_data_iterative_impute.parquet',\n",
    ")\n",
    "print(y_iter.isna().sum().sum())"
   ]
  },
  {
   "cell_type": "code",
   "execution_count": 32,
   "id": "6b2eed3c",
   "metadata": {
    "execution": {
     "iopub.execute_input": "2023-04-10T14:55:11.486836Z",
     "iopub.status.busy": "2023-04-10T14:55:11.486458Z",
     "iopub.status.idle": "2023-04-10T14:55:11.596089Z",
     "shell.execute_reply": "2023-04-10T14:55:11.594565Z"
    },
    "papermill": {
     "duration": 0.160551,
     "end_time": "2023-04-10T14:55:11.600299",
     "exception": false,
     "start_time": "2023-04-10T14:55:11.439748",
     "status": "completed"
    },
    "tags": []
   },
   "outputs": [
    {
     "name": "stdout",
     "output_type": "stream",
     "text": [
      "2462\n",
      "0\n",
      "CPU times: user 145 ms, sys: 53.8 ms, total: 199 ms\n",
      "Wall time: 101 ms\n"
     ]
    }
   ],
   "source": [
    "%%time\n",
    "print(y.isna().sum().sum())\n",
    "knn_imputer = KNNImputer(\n",
    "    weights='uniform',\n",
    "    n_neighbors=10,\n",
    ")\n",
    "\n",
    "# fit the imputer\n",
    "y_knn_array = knn_imputer.fit_transform(y)\n",
    "y_knn = pd.DataFrame(\n",
    "    data=y_knn_array,\n",
    "    columns=y.columns,\n",
    "    index=y.index,\n",
    ")\n",
    "\n",
    "# save to parquet\n",
    "y_knn.to_parquet(\n",
    "    'clinical_data_KNN_impute.parquet',\n",
    ")\n",
    "print(y_knn.isna().sum().sum())"
   ]
  },
  {
   "cell_type": "code",
   "execution_count": 33,
   "id": "e690665f",
   "metadata": {
    "execution": {
     "iopub.execute_input": "2023-04-10T14:55:11.660667Z",
     "iopub.status.busy": "2023-04-10T14:55:11.660342Z",
     "iopub.status.idle": "2023-04-10T14:55:11.673267Z",
     "shell.execute_reply": "2023-04-10T14:55:11.672094Z"
    },
    "papermill": {
     "duration": 0.032663,
     "end_time": "2023-04-10T14:55:11.675420",
     "exception": false,
     "start_time": "2023-04-10T14:55:11.642757",
     "status": "completed"
    },
    "tags": []
   },
   "outputs": [
    {
     "name": "stdout",
     "output_type": "stream",
     "text": [
      "0\n",
      "0\n"
     ]
    }
   ],
   "source": [
    "# Repeat using Iterative Imputed Clinical Data and Imputed Protein/Peptide\n",
    "print(iter_X.isna().sum().sum())\n",
    "print(y_iter.isna().sum().sum())\n",
    "\n",
    "if 'rerun_all' in locals() and rerun_all:\n",
    "    results = evaluate_model(iter_X, y_iter, True, True)\n",
    "\n",
    "    # summarize performance\n",
    "    print('MAE: %.3f (%.3f)' % (mean(results), std(results)))"
   ]
  },
  {
   "cell_type": "code",
   "execution_count": 34,
   "id": "03d878f7",
   "metadata": {
    "execution": {
     "iopub.execute_input": "2023-04-10T14:55:11.710738Z",
     "iopub.status.busy": "2023-04-10T14:55:11.709899Z",
     "iopub.status.idle": "2023-04-10T14:55:11.723081Z",
     "shell.execute_reply": "2023-04-10T14:55:11.721784Z"
    },
    "papermill": {
     "duration": 0.032937,
     "end_time": "2023-04-10T14:55:11.725127",
     "exception": false,
     "start_time": "2023-04-10T14:55:11.692190",
     "status": "completed"
    },
    "tags": []
   },
   "outputs": [
    {
     "name": "stdout",
     "output_type": "stream",
     "text": [
      "0\n",
      "0\n"
     ]
    }
   ],
   "source": [
    "# Repeat using KNN Imputed Clinical Data and KNN Imputed Protein/Peptide\n",
    "print(knn_X.isna().sum().sum())\n",
    "print(y_knn.isna().sum().sum())\n",
    "\n",
    "if 'rerun_all' in locals() and rerun_all:\n",
    "    results = evaluate_model(knn_X, y_knn, True, True)\n",
    "\n",
    "    # summarize performance\n",
    "    print('MAE: %.3f (%.3f)' % (mean(results), std(results)))"
   ]
  },
  {
   "cell_type": "code",
   "execution_count": 35,
   "id": "12102635",
   "metadata": {
    "execution": {
     "iopub.execute_input": "2023-04-10T14:55:11.759985Z",
     "iopub.status.busy": "2023-04-10T14:55:11.759708Z",
     "iopub.status.idle": "2023-04-10T14:55:11.782999Z",
     "shell.execute_reply": "2023-04-10T14:55:11.782031Z"
    },
    "papermill": {
     "duration": 0.04301,
     "end_time": "2023-04-10T14:55:11.785201",
     "exception": false,
     "start_time": "2023-04-10T14:55:11.742191",
     "status": "completed"
    },
    "tags": []
   },
   "outputs": [],
   "source": [
    "# Repeat, using feature selection on the KNN imputed dataset\n",
    "\n",
    "from sklearn.feature_selection import SelectFromModel\n",
    "from sklearn.linear_model import MultiTaskLassoCV\n",
    "\n",
    "# Keep only the most contributing features\n",
    "if 'rerun_all' in locals() and rerun_all:\n",
    "    sfm = SelectFromModel(MultiTaskLassoCV())\n",
    "    sfm.fit(knn_X, y_knn)\n",
    "\n",
    "    status = sfm.get_support()\n",
    "    print(\"Selection status: \", status) \n",
    "\n",
    "# for col, sel in zip(knn_X.columns, status):\n",
    "#     print(str(sel) + \" : \" + col)"
   ]
  },
  {
   "cell_type": "code",
   "execution_count": 36,
   "id": "d1fb122d",
   "metadata": {
    "execution": {
     "iopub.execute_input": "2023-04-10T14:55:11.820966Z",
     "iopub.status.busy": "2023-04-10T14:55:11.820637Z",
     "iopub.status.idle": "2023-04-10T14:55:11.826177Z",
     "shell.execute_reply": "2023-04-10T14:55:11.824978Z"
    },
    "papermill": {
     "duration": 0.026541,
     "end_time": "2023-04-10T14:55:11.828653",
     "exception": false,
     "start_time": "2023-04-10T14:55:11.802112",
     "status": "completed"
    },
    "tags": []
   },
   "outputs": [],
   "source": [
    "# Unfortunately, this selects none of our features!\n",
    "if 'rerun_all' in locals() and rerun_all:\n",
    "    status = sfm.get_support()\n",
    "    print(\"Selection status: \", np.count_nonzero(status), \" / \", status.size, \" selected\")\n"
   ]
  },
  {
   "cell_type": "code",
   "execution_count": 37,
   "id": "c90a0afa",
   "metadata": {
    "execution": {
     "iopub.execute_input": "2023-04-10T14:55:11.870077Z",
     "iopub.status.busy": "2023-04-10T14:55:11.868919Z",
     "iopub.status.idle": "2023-04-10T14:55:14.865933Z",
     "shell.execute_reply": "2023-04-10T14:55:14.864938Z"
    },
    "papermill": {
     "duration": 3.020501,
     "end_time": "2023-04-10T14:55:14.868672",
     "exception": false,
     "start_time": "2023-04-10T14:55:11.848171",
     "status": "completed"
    },
    "tags": []
   },
   "outputs": [],
   "source": [
    "import xgboost\n",
    "import shap\n",
    "\n",
    "# train an XGBoost model\n",
    "if 'rerun_all' in locals() and rerun_all:\n",
    "    model = xgboost.XGBRegressor().fit(knn_X, y_knn)\n",
    "\n",
    "# explain the model's predictions using SHAP\n",
    "# (same syntax works for LightGBM, CatBoost, scikit-learn, transformers, Spark, etc.)\n",
    "# explainer = shap.Explainer(model)\n",
    "# shap_values = explainer(knn_X)"
   ]
  },
  {
   "cell_type": "markdown",
   "id": "676b98fa",
   "metadata": {
    "papermill": {
     "duration": 0.041828,
     "end_time": "2023-04-10T14:55:14.945590",
     "exception": false,
     "start_time": "2023-04-10T14:55:14.903762",
     "status": "completed"
    },
    "tags": []
   },
   "source": [
    "### Summary of results:\n",
    "\n",
    "| Method | MAE   | STD   |\n",
    "| ------ | ----- | ----- |\n",
    "| Iterative - Simple model | 5.792 | 0.301 |\n",
    "| KNN - Simple model | 5.786 | 0.307 |\n",
    "| Iterative - Dense + Dropout model | 5.760 | 0.302 |\n",
    "| KNN - Dense + Dropout model | 5.767 | 0.313 |\n",
    "| Iterative - Protein data | 5.785 | 0.299 |\n",
    "| KNN - Protein data | 5.787 | 0.307 |\n",
    "| Iterative - Peptide data | 5.772 | 0.298 |\n",
    "| KNN - Peptide data | 5.762 | 0.308 |\n",
    "| Iterative - Clinical NANs imputed | 5.697 | 0.271  |\n",
    "| KNN - Clinical NANs imputed | 5.658 | 0.255 |\n",
    "\n",
    "I'm not seeing significant differences in these, however there's some small lessons:\n",
    " * Imputing missing UPDRS scores gave a marginal improvement in performance\n",
    " * The protein vs peptide results indicate feature selection may yield further improvements even though strictly proteins or strictly peptides weren't particularly favorable\n",
    " * Iterative imputing vs KNN imputing was about equal\n",
    " \n",
    "I will move forward with KNN imputation, it's not significantly superior but it does seem to perform equal to or very slightly better than Iterative imputation."
   ]
  },
  {
   "cell_type": "markdown",
   "id": "22571c8a",
   "metadata": {
    "papermill": {
     "duration": 0.029467,
     "end_time": "2023-04-10T14:55:15.007046",
     "exception": false,
     "start_time": "2023-04-10T14:55:14.977579",
     "status": "completed"
    },
    "tags": []
   },
   "source": [
    "# Hyperparameter Tuning\n"
   ]
  },
  {
   "cell_type": "markdown",
   "id": "37d4846a",
   "metadata": {
    "papermill": {
     "duration": 0.03551,
     "end_time": "2023-04-10T14:55:15.069324",
     "exception": false,
     "start_time": "2023-04-10T14:55:15.033814",
     "status": "completed"
    },
    "tags": []
   },
   "source": [
    "## Clinical Data Model\n",
    "First let's try tuning just the UPDRS/Protein+Peptide data so we can see if reusing the supplemental data's base layers improves it or not.\n",
    "\n",
    "I think we can end up re-using this tuner for both the model and the supplemental data base model."
   ]
  },
  {
   "cell_type": "code",
   "execution_count": 38,
   "id": "25d3b5ac",
   "metadata": {
    "execution": {
     "iopub.execute_input": "2023-04-10T14:55:15.104649Z",
     "iopub.status.busy": "2023-04-10T14:55:15.104245Z",
     "iopub.status.idle": "2023-04-10T14:55:15.208872Z",
     "shell.execute_reply": "2023-04-10T14:55:15.207916Z"
    },
    "papermill": {
     "duration": 0.125211,
     "end_time": "2023-04-10T14:55:15.211323",
     "exception": false,
     "start_time": "2023-04-10T14:55:15.086112",
     "status": "completed"
    },
    "tags": []
   },
   "outputs": [],
   "source": [
    "import tensorflow as tf\n",
    "from tensorflow import keras\n",
    "import keras_tuner as kt\n",
    "from keras.activations import relu, sigmoid, tanh\n",
    "\n",
    "def model_builder(hp):\n",
    "    model = keras.Sequential()\n",
    "    \n",
    "    # Tune the number of units in the first layer\n",
    "    hp_units = hp.Int('units', min_value=16, max_value=512, step=64)\n",
    "    \n",
    "    # Choose activation function\n",
    "    hp_activation=hp.Choice(\"activation\", values=[\"relu\", \"tanh\", \"sigmoid\"])\n",
    "    \n",
    "    # Chose kernel initialization\n",
    "    hp_kernel_init=hp.Choice(\"kernel_initializer\", values=[\"he_uniform\", \"he_normal\", \"glorot_uniform\", \"glorot_normal\"])\n",
    "    \n",
    "    model.add(Dense(hp_units, input_dim=1195, kernel_initializer=hp_kernel_init, activation=hp_activation))\n",
    "\n",
    "    # Tune the number of units in the first Dense layer\n",
    "    hp_units_d = hp.Int('units_dense', min_value=32, max_value=512, step=64)\n",
    "    model.add(keras.layers.Dense(units=hp_units_d, activation=hp_activation))\n",
    "    \n",
    "    # Tune the number of dense layers in the first Dense layer\n",
    "    hp_hidden = hp.Int('num_hidden', min_value=0, max_value=4, step=1)\n",
    "    \n",
    "    for i in range(hp_hidden):\n",
    "         model.add(keras.layers.Dense(units=hp_units_d, activation=hp_activation))\n",
    "    \n",
    "    model.add(keras.layers.Dense(16))\n",
    "\n",
    "    # Tune the learning rate for the optimizer\n",
    "    # Choose an optimal value from 0.01, 0.001, or 0.0001\n",
    "    hp_learning_rate = hp.Choice('learning_rate', values=[1e-2, 1e-3, 1e-4])\n",
    "\n",
    "    model.compile(optimizer=keras.optimizers.Adam(learning_rate=hp_learning_rate),\n",
    "                loss=keras.losses.CategoricalCrossentropy(),\n",
    "                metrics=['accuracy'])\n",
    "\n",
    "    return model"
   ]
  },
  {
   "cell_type": "code",
   "execution_count": 39,
   "id": "f2ea4fb6",
   "metadata": {
    "execution": {
     "iopub.execute_input": "2023-04-10T14:55:15.246651Z",
     "iopub.status.busy": "2023-04-10T14:55:15.245782Z",
     "iopub.status.idle": "2023-04-10T14:55:19.712047Z",
     "shell.execute_reply": "2023-04-10T14:55:19.710912Z"
    },
    "papermill": {
     "duration": 4.487033,
     "end_time": "2023-04-10T14:55:19.715151",
     "exception": false,
     "start_time": "2023-04-10T14:55:15.228118",
     "status": "completed"
    },
    "tags": []
   },
   "outputs": [],
   "source": [
    "tuner = kt.Hyperband(model_builder,\n",
    "                     objective='val_accuracy',\n",
    "                     max_epochs=10,\n",
    "                     factor=3,\n",
    "                     directory='/kaggle/working',\n",
    "                     project_name='parkinsons')\n",
    "\n",
    "stop_early = tf.keras.callbacks.EarlyStopping(monitor='val_loss', patience=5)"
   ]
  },
  {
   "cell_type": "code",
   "execution_count": 40,
   "id": "02cb880e",
   "metadata": {
    "execution": {
     "iopub.execute_input": "2023-04-10T14:55:19.753260Z",
     "iopub.status.busy": "2023-04-10T14:55:19.752938Z",
     "iopub.status.idle": "2023-04-10T14:56:59.631608Z",
     "shell.execute_reply": "2023-04-10T14:56:59.630577Z"
    },
    "papermill": {
     "duration": 99.900665,
     "end_time": "2023-04-10T14:56:59.635568",
     "exception": false,
     "start_time": "2023-04-10T14:55:19.734903",
     "status": "completed"
    },
    "tags": []
   },
   "outputs": [
    {
     "name": "stdout",
     "output_type": "stream",
     "text": [
      "Trial 30 Complete [00h 00m 04s]\n",
      "val_accuracy: 0.15887850522994995\n",
      "\n",
      "Best val_accuracy So Far: 0.25233644247055054\n",
      "Total elapsed time: 00h 01m 40s\n",
      "{'units': 272, 'activation': 'sigmoid', 'kernel_initializer': 'he_uniform', 'units_dense': 288, 'num_hidden': 4, 'learning_rate': 0.01, 'tuner/epochs': 2, 'tuner/initial_epoch': 0, 'tuner/bracket': 2, 'tuner/round': 0}\n"
     ]
    }
   ],
   "source": [
    "tuner.search(knn_X, y_knn, epochs=50, validation_split=0.2, callbacks=[stop_early])\n",
    "\n",
    "# Get the optimal hyperparameters\n",
    "best_hps=tuner.get_best_hyperparameters(num_trials=1)[0]\n",
    "\n",
    "print(best_hps.values)"
   ]
  },
  {
   "cell_type": "markdown",
   "id": "d33ce711",
   "metadata": {
    "papermill": {
     "duration": 0.03189,
     "end_time": "2023-04-10T14:56:59.695527",
     "exception": false,
     "start_time": "2023-04-10T14:56:59.663637",
     "status": "completed"
    },
    "tags": []
   },
   "source": [
    "```\n",
    "{'units': 208,\n",
    " 'activation': 'tanh',\n",
    " 'kernel_initializer': 'he_uniform',\n",
    " 'units_dense': 224,\n",
    " 'num_hidden': 1,\n",
    " 'learning_rate': 0.001,\n",
    " 'tuner/epochs': 2,\n",
    " 'tuner/initial_epoch': 0,\n",
    " 'tuner/bracket': 2,\n",
    " 'tuner/round': 0}\n",
    " ```"
   ]
  },
  {
   "cell_type": "markdown",
   "id": "debc15b2",
   "metadata": {
    "papermill": {
     "duration": 0.025434,
     "end_time": "2023-04-10T14:56:59.751283",
     "exception": false,
     "start_time": "2023-04-10T14:56:59.725849",
     "status": "completed"
    },
    "tags": []
   },
   "source": [
    "## Supplemental Data For Model Reuse\n",
    "\n",
    "Now that we've got our supplemental data working, let's get that model trained and tuned so we can reuse it with our UPDRS data."
   ]
  },
  {
   "cell_type": "code",
   "execution_count": 41,
   "id": "b9afe146",
   "metadata": {
    "execution": {
     "iopub.execute_input": "2023-04-10T14:56:59.804919Z",
     "iopub.status.busy": "2023-04-10T14:56:59.804491Z",
     "iopub.status.idle": "2023-04-10T14:56:59.819619Z",
     "shell.execute_reply": "2023-04-10T14:56:59.818694Z"
    },
    "papermill": {
     "duration": 0.04472,
     "end_time": "2023-04-10T14:56:59.822371",
     "exception": false,
     "start_time": "2023-04-10T14:56:59.777651",
     "status": "completed"
    },
    "tags": []
   },
   "outputs": [],
   "source": [
    "# It's a bit of duplication\n",
    "# but I can't find an easy way to pass input and output dimensions through the keras tuner\n",
    "\n",
    "import tensorflow as tf\n",
    "from tensorflow import keras\n",
    "import keras_tuner as kt\n",
    "from keras.activations import relu, sigmoid, tanh\n",
    "\n",
    "def base_model_builder(hp):\n",
    "    model = keras.Sequential()\n",
    "    \n",
    "    # Tune the number of units in the first layer\n",
    "    hp_units = hp.Int('units', min_value=16, max_value=512, step=64)\n",
    "    \n",
    "    # Choose activation function\n",
    "    hp_activation=hp.Choice(\"activation\", values=[\"relu\", \"tanh\", \"sigmoid\"])\n",
    "    \n",
    "    # Chose kernel initialization\n",
    "    hp_kernel_init=hp.Choice(\"kernel_initializer\", values=[\"he_uniform\", \"he_normal\", \"glorot_uniform\", \"glorot_normal\"])\n",
    "    \n",
    "    model.add(Dense(hp_units, input_dim=1, kernel_initializer=hp_kernel_init, activation=hp_activation))\n",
    "\n",
    "    # Tune the number of units in the first Dense layer\n",
    "    hp_units_d = hp.Int('units_dense', min_value=32, max_value=512, step=64)\n",
    "    model.add(keras.layers.Dense(units=hp_units_d, activation=hp_activation))\n",
    "    \n",
    "    # Tune the number of dense layers in the first Dense layer\n",
    "    hp_hidden = hp.Int('num_hidden', min_value=0, max_value=4, step=1)\n",
    "    \n",
    "    for i in range(hp_hidden):\n",
    "         model.add(keras.layers.Dense(units=hp_units_d, activation=hp_activation))\n",
    "    \n",
    "    model.add(keras.layers.Dense(16))\n",
    "\n",
    "    # Tune the learning rate for the optimizer\n",
    "    # Choose an optimal value from 0.01, 0.001, or 0.0001\n",
    "    hp_learning_rate = hp.Choice('learning_rate', values=[1e-2, 1e-3, 1e-4])\n",
    "\n",
    "    model.compile(optimizer=keras.optimizers.Adam(learning_rate=hp_learning_rate),\n",
    "                loss=keras.losses.CategoricalCrossentropy(),\n",
    "                metrics=['accuracy'])\n",
    "\n",
    "    return model"
   ]
  },
  {
   "cell_type": "code",
   "execution_count": 42,
   "id": "7accba4f",
   "metadata": {
    "execution": {
     "iopub.execute_input": "2023-04-10T14:56:59.876640Z",
     "iopub.status.busy": "2023-04-10T14:56:59.876294Z",
     "iopub.status.idle": "2023-04-10T14:57:02.163924Z",
     "shell.execute_reply": "2023-04-10T14:57:02.162889Z"
    },
    "papermill": {
     "duration": 2.317202,
     "end_time": "2023-04-10T14:57:02.166740",
     "exception": false,
     "start_time": "2023-04-10T14:56:59.849538",
     "status": "completed"
    },
    "tags": []
   },
   "outputs": [],
   "source": [
    "tuner = kt.Hyperband(base_model_builder,\n",
    "                     objective='val_accuracy',\n",
    "                     max_epochs=10,\n",
    "                     factor=3,\n",
    "                     directory='/kaggle/working',\n",
    "                     project_name='parkinsons')\n",
    "\n",
    "stop_early = tf.keras.callbacks.EarlyStopping(monitor='val_loss', patience=5)"
   ]
  },
  {
   "cell_type": "code",
   "execution_count": 43,
   "id": "73e2b158",
   "metadata": {
    "execution": {
     "iopub.execute_input": "2023-04-10T14:57:02.202247Z",
     "iopub.status.busy": "2023-04-10T14:57:02.201932Z",
     "iopub.status.idle": "2023-04-10T14:57:02.208361Z",
     "shell.execute_reply": "2023-04-10T14:57:02.207334Z"
    },
    "papermill": {
     "duration": 0.026791,
     "end_time": "2023-04-10T14:57:02.210874",
     "exception": false,
     "start_time": "2023-04-10T14:57:02.184083",
     "status": "completed"
    },
    "tags": []
   },
   "outputs": [
    {
     "name": "stdout",
     "output_type": "stream",
     "text": [
      "{'units': 400, 'activation': 'sigmoid', 'kernel_initializer': 'he_normal', 'units_dense': 416, 'num_hidden': 3, 'learning_rate': 0.001, 'tuner/epochs': 2, 'tuner/initial_epoch': 0, 'tuner/bracket': 2, 'tuner/round': 0}\n"
     ]
    }
   ],
   "source": [
    "tuner.search(supp_X, supp_y_knn, epochs=50, validation_split=0.2, callbacks=[stop_early])\n",
    "\n",
    "# Get the optimal hyperparameters\n",
    "best_hps=tuner.get_best_hyperparameters(num_trials=1)[0]\n",
    "\n",
    "print(best_hps.values)"
   ]
  },
  {
   "cell_type": "markdown",
   "id": "7aa66c70",
   "metadata": {
    "papermill": {
     "duration": 0.016502,
     "end_time": "2023-04-10T14:57:02.244230",
     "exception": false,
     "start_time": "2023-04-10T14:57:02.227728",
     "status": "completed"
    },
    "tags": []
   },
   "source": [
    "```\n",
    "{\n",
    "    'units': 400, \n",
    "    'activation': 'tanh', \n",
    "    'kernel_initializer': 'he_uniform', \n",
    "    'units_dense': 416, \n",
    "    'num_hidden': 3, \n",
    "    'learning_rate': 0.001, \n",
    "    'tuner/epochs': 4, \n",
    "    'tuner/initial_epoch': 0, \n",
    "    'tuner/bracket': 1, \n",
    "    'tuner/round': 0\n",
    "}\n",
    "```\n"
   ]
  },
  {
   "cell_type": "markdown",
   "id": "4af05cf1",
   "metadata": {
    "papermill": {
     "duration": 0.016552,
     "end_time": "2023-04-10T14:57:02.277513",
     "exception": false,
     "start_time": "2023-04-10T14:57:02.260961",
     "status": "completed"
    },
    "tags": []
   },
   "source": [
    "### Model reuse\n",
    "\n",
    "Now that I have the separate models tuned, I'll train the base model by the optimal hyperparameters and then reuse its layers to train the top model."
   ]
  },
  {
   "cell_type": "code",
   "execution_count": 44,
   "id": "9e2e0733",
   "metadata": {
    "execution": {
     "iopub.execute_input": "2023-04-10T14:57:02.313629Z",
     "iopub.status.busy": "2023-04-10T14:57:02.312090Z",
     "iopub.status.idle": "2023-04-10T14:57:02.323124Z",
     "shell.execute_reply": "2023-04-10T14:57:02.322435Z"
    },
    "papermill": {
     "duration": 0.030814,
     "end_time": "2023-04-10T14:57:02.325033",
     "exception": false,
     "start_time": "2023-04-10T14:57:02.294219",
     "status": "completed"
    },
    "tags": []
   },
   "outputs": [],
   "source": [
    "def optimal_base_model():\n",
    "    model = keras.Sequential()\n",
    "    \n",
    "    model.add(Dense(400, input_dim=1, kernel_initializer='he_uniform', activation='tanh'))\n",
    "    model.add(keras.layers.Dense(units=416, activation='tanh'))\n",
    "    model.add(keras.layers.Dense(units=416, activation='tanh'))\n",
    "    model.add(keras.layers.Dense(units=416, activation='tanh'))\n",
    "    model.add(keras.layers.Dense(16))\n",
    "    model.compile(optimizer=keras.optimizers.Adam(learning_rate=1e-3),\n",
    "                loss='mae',\n",
    "                metrics=['accuracy'])\n",
    "    return model\n",
    "\n",
    "#    'tuner/epochs': 4, \n",
    "#    'tuner/initial_epoch': 0, \n",
    "#    'tuner/bracket': 1, \n",
    "#    'tuner/round': 0\n",
    "\n",
    "\n",
    "from sklearn.model_selection import train_test_split\n",
    "\n",
    "def train_base_model(X, y):\n",
    "    model = optimal_base_model()\n",
    "    # prepare data\n",
    "    X_train, X_test = train_test_split(X, test_size=0.2, random_state=25)\n",
    "    y_train, y_test = train_test_split(y, test_size=0.2, random_state=25)\n",
    "    # fit model\n",
    "    model.fit(X_train, y_train, verbose=0, epochs=4, validation_split=0.2)\n",
    "    # evaluate model on test set\n",
    "    mae = model.evaluate(X_test, y_test, verbose=0)\n",
    "    # store result\n",
    "    print(mae)\n",
    "    return model"
   ]
  },
  {
   "cell_type": "code",
   "execution_count": 45,
   "id": "f42ba484",
   "metadata": {
    "execution": {
     "iopub.execute_input": "2023-04-10T14:57:02.359979Z",
     "iopub.status.busy": "2023-04-10T14:57:02.359678Z",
     "iopub.status.idle": "2023-04-10T14:57:04.997640Z",
     "shell.execute_reply": "2023-04-10T14:57:04.996110Z"
    },
    "papermill": {
     "duration": 2.660593,
     "end_time": "2023-04-10T14:57:05.002504",
     "exception": false,
     "start_time": "2023-04-10T14:57:02.341911",
     "status": "completed"
    },
    "tags": []
   },
   "outputs": [
    {
     "name": "stdout",
     "output_type": "stream",
     "text": [
      "0\n",
      "0\n",
      "[3.8928639888763428, 0.22022472321987152]\n",
      "None\n"
     ]
    }
   ],
   "source": [
    "print(supp_X.isna().sum().sum())\n",
    "print(supp_y_knn.isna().sum().sum())\n",
    "\n",
    "base_model = train_base_model(supp_X, supp_y_knn)\n",
    "\n",
    "result = base_model.save(\"base_model.h5\", include_optimizer=True)\n",
    "print(result)"
   ]
  },
  {
   "cell_type": "code",
   "execution_count": 46,
   "id": "419299e8",
   "metadata": {
    "execution": {
     "iopub.execute_input": "2023-04-10T14:57:05.069396Z",
     "iopub.status.busy": "2023-04-10T14:57:05.068662Z",
     "iopub.status.idle": "2023-04-10T14:57:05.079198Z",
     "shell.execute_reply": "2023-04-10T14:57:05.078096Z"
    },
    "papermill": {
     "duration": 0.048966,
     "end_time": "2023-04-10T14:57:05.081709",
     "exception": false,
     "start_time": "2023-04-10T14:57:05.032743",
     "status": "completed"
    },
    "tags": []
   },
   "outputs": [],
   "source": [
    "def optimal_clinical_model():\n",
    "    model = keras.Sequential()\n",
    "    \n",
    "    model.add(Dense(208, input_dim=1195, kernel_initializer='he_uniform', activation='tanh'))\n",
    "    model.add(keras.layers.Dense(units=224, activation='tanh'))\n",
    "    model.add(keras.layers.Dense(16))\n",
    "    \n",
    "    model.compile(optimizer=keras.optimizers.Adam(learning_rate=1e-3),\n",
    "                loss='mae',\n",
    "                metrics=['accuracy'])\n",
    "    return model\n",
    "\n",
    "def train_clinical_model(X, y):\n",
    "    model = optimal_clinical_model()\n",
    "    # fit model\n",
    "    model.fit(X_train, y_train, verbose=0, epochs=4, validation_split=0.2)\n",
    "    # evaluate model on test set\n",
    "    mae = model.evaluate(X_test, y_test, verbose=0)\n",
    "    # store result\n",
    "    print(mae)\n",
    "    return model"
   ]
  },
  {
   "cell_type": "code",
   "execution_count": 47,
   "id": "5e981a17",
   "metadata": {
    "execution": {
     "iopub.execute_input": "2023-04-10T14:57:05.117020Z",
     "iopub.status.busy": "2023-04-10T14:57:05.116738Z",
     "iopub.status.idle": "2023-04-10T14:57:06.958547Z",
     "shell.execute_reply": "2023-04-10T14:57:06.957567Z"
    },
    "papermill": {
     "duration": 1.862244,
     "end_time": "2023-04-10T14:57:06.960796",
     "exception": false,
     "start_time": "2023-04-10T14:57:05.098552",
     "status": "completed"
    },
    "tags": []
   },
   "outputs": [
    {
     "name": "stdout",
     "output_type": "stream",
     "text": [
      "0\n",
      "0\n",
      "[5.723085403442383, 0.2616822421550751]\n"
     ]
    }
   ],
   "source": [
    "from sklearn.model_selection import train_test_split\n",
    "# prepare data\n",
    "X_train, X_test = train_test_split(knn_X, test_size=0.2, random_state=25)\n",
    "y_train, y_test = train_test_split(y_knn, test_size=0.2, random_state=25)\n",
    "\n",
    "print(knn_X.isna().sum().sum())\n",
    "print(y_knn.isna().sum().sum())\n",
    "\n",
    "clinical_model = train_clinical_model(X_train, y_train)\n",
    "result = clinical_model.save(\"clinical_model.h5\", include_optimizer=True)"
   ]
  },
  {
   "cell_type": "code",
   "execution_count": 48,
   "id": "31ee09fc",
   "metadata": {
    "execution": {
     "iopub.execute_input": "2023-04-10T14:57:06.996871Z",
     "iopub.status.busy": "2023-04-10T14:57:06.996567Z",
     "iopub.status.idle": "2023-04-10T14:57:07.007617Z",
     "shell.execute_reply": "2023-04-10T14:57:07.006478Z"
    },
    "papermill": {
     "duration": 0.031686,
     "end_time": "2023-04-10T14:57:07.009812",
     "exception": false,
     "start_time": "2023-04-10T14:57:06.978126",
     "status": "completed"
    },
    "tags": []
   },
   "outputs": [],
   "source": [
    "import tensorflow as tf\n",
    "from tensorflow import keras\n",
    "import keras_tuner as kt\n",
    "from keras.activations import relu, sigmoid, tanh\n",
    "\n",
    "def reuse_model_builder(hp):\n",
    "    model = keras.Sequential()\n",
    "    \n",
    "    # Tune the number of units in the first layer\n",
    "    hp_units = hp.Int('units', min_value=16, max_value=512, step=64)\n",
    "    \n",
    "    # Choose activation function\n",
    "    hp_activation=hp.Choice(\"activation\", values=[\"relu\", \"tanh\", \"sigmoid\"])\n",
    "    \n",
    "    # Chose kernel initialization\n",
    "    hp_kernel_init=hp.Choice(\"kernel_initializer\", values=[\"he_uniform\", \"he_normal\", \"glorot_uniform\", \"glorot_normal\"])\n",
    "    \n",
    "    model.add(Dense(hp_units, input_dim=1195, kernel_initializer=hp_kernel_init, activation=hp_activation))\n",
    "\n",
    "    # Tune the number of units in the first Dense layer\n",
    "    hp_units_d = hp.Int('units_dense', min_value=32, max_value=512, step=64)\n",
    "    model.add(keras.layers.Dense(units=hp_units_d, activation=hp_activation))\n",
    "    \n",
    "    # Tune the number of reused models\n",
    "    hp_reuse = hp.Int('num_reuse', min_value=0, max_value=4, step=1)\n",
    "    \n",
    "    # Load the base model\n",
    "    # this is a little messy given the prereq that base_model exists\n",
    "    base_model = keras.models.load_model(\"base_model.h5\")\n",
    "    \n",
    "    if (hp_reuse > 0):\n",
    "        model.add(keras.layers.Dense(400, activation='tanh'))\n",
    "    \n",
    "    for i in range(1, hp_reuse):\n",
    "        # base_model.layers[i].trainable=False\n",
    "        model.add(base_model.layers[i])\n",
    "    \n",
    "    # Tune the number of dense layers in the first Dense layer\n",
    "    hp_hidden = hp.Int('num_hidden', min_value=0, max_value=4, step=1)\n",
    "    \n",
    "    for i in range(hp_hidden):\n",
    "         model.add(keras.layers.Dense(units=hp_units_d, activation=hp_activation))\n",
    "    \n",
    "    model.add(keras.layers.Dense(16))\n",
    "\n",
    "    # Tune the learning rate for the optimizer\n",
    "    # Choose an optimal value from 0.01, 0.001, or 0.0001\n",
    "    hp_learning_rate = hp.Choice('learning_rate', values=[1e-2, 1e-3, 1e-4])\n",
    "\n",
    "    model.compile(optimizer=keras.optimizers.Adam(learning_rate=hp_learning_rate),\n",
    "                loss='mae',\n",
    "                metrics=['accuracy'])\n",
    "    \n",
    "    print(model.summary())\n",
    "\n",
    "    return model"
   ]
  },
  {
   "cell_type": "code",
   "execution_count": 49,
   "id": "3811dd06",
   "metadata": {
    "execution": {
     "iopub.execute_input": "2023-04-10T14:57:07.045413Z",
     "iopub.status.busy": "2023-04-10T14:57:07.044483Z",
     "iopub.status.idle": "2023-04-10T14:57:07.259997Z",
     "shell.execute_reply": "2023-04-10T14:57:07.258765Z"
    },
    "papermill": {
     "duration": 0.235591,
     "end_time": "2023-04-10T14:57:07.262215",
     "exception": false,
     "start_time": "2023-04-10T14:57:07.026624",
     "status": "completed"
    },
    "tags": []
   },
   "outputs": [
    {
     "name": "stdout",
     "output_type": "stream",
     "text": [
      "Model: \"sequential_4\"\n",
      "_________________________________________________________________\n",
      " Layer (type)                Output Shape              Param #   \n",
      "=================================================================\n",
      " dense_18 (Dense)            (None, 16)                19136     \n",
      "                                                                 \n",
      " dense_19 (Dense)            (None, 32)                544       \n",
      "                                                                 \n",
      " dense_20 (Dense)            (None, 16)                528       \n",
      "                                                                 \n",
      "=================================================================\n",
      "Total params: 20,208\n",
      "Trainable params: 20,208\n",
      "Non-trainable params: 0\n",
      "_________________________________________________________________\n",
      "None\n",
      "{'units': 400, 'activation': 'sigmoid', 'kernel_initializer': 'he_normal', 'units_dense': 416, 'num_hidden': 3, 'learning_rate': 0.001, 'tuner/epochs': 2, 'tuner/initial_epoch': 0, 'tuner/bracket': 2, 'tuner/round': 0}\n"
     ]
    }
   ],
   "source": [
    "tuner = kt.Hyperband(reuse_model_builder,\n",
    "                     objective='val_accuracy',\n",
    "                     max_epochs=10,\n",
    "                     factor=3,\n",
    "                     directory='/kaggle/working',\n",
    "                     project_name='parkinsons')\n",
    "\n",
    "stop_early = tf.keras.callbacks.EarlyStopping(monitor='val_loss', patience=5)\n",
    "\n",
    "tuner.search(knn_X, y_knn, epochs=50, validation_split=0.2, callbacks=[stop_early])\n",
    "\n",
    "# Get the optimal hyperparameters\n",
    "best_hps=tuner.get_best_hyperparameters(num_trials=1)[0]\n",
    "\n",
    "print(best_hps.values)"
   ]
  },
  {
   "cell_type": "markdown",
   "id": "674ead6c",
   "metadata": {
    "papermill": {
     "duration": 0.017677,
     "end_time": "2023-04-10T14:57:07.298169",
     "exception": false,
     "start_time": "2023-04-10T14:57:07.280492",
     "status": "completed"
    },
    "tags": []
   },
   "source": [
    "### Summary of results\n",
    "\n",
    "```\n",
    "{\n",
    "'units': 208, \n",
    "'activation': 'relu', \n",
    "'kernel_initializer': 'glorot_normal', \n",
    "'units_dense': 352, \n",
    "'num_reuse': 2, \n",
    "'num_hidden': 2, \n",
    "'learning_rate': 0.0001, \n",
    "'tuner/epochs': 2, \n",
    "'tuner/initial_epoch': 0, \n",
    "'tuner/bracket': 2, \n",
    "'tuner/round': 0\n",
    "}\n",
    "```"
   ]
  },
  {
   "cell_type": "code",
   "execution_count": 50,
   "id": "7cbfdafc",
   "metadata": {
    "execution": {
     "iopub.execute_input": "2023-04-10T14:57:07.334970Z",
     "iopub.status.busy": "2023-04-10T14:57:07.334658Z",
     "iopub.status.idle": "2023-04-10T14:57:07.344434Z",
     "shell.execute_reply": "2023-04-10T14:57:07.343549Z"
    },
    "papermill": {
     "duration": 0.030647,
     "end_time": "2023-04-10T14:57:07.346566",
     "exception": false,
     "start_time": "2023-04-10T14:57:07.315919",
     "status": "completed"
    },
    "tags": []
   },
   "outputs": [],
   "source": [
    "def optimal_reuse_model():\n",
    "    model = keras.Sequential()\n",
    "    \n",
    "    model.add(Dense(208, input_dim=1195, kernel_initializer='glorot_normal', activation='relu'))\n",
    "    model.add(keras.layers.Dense(units=352, activation='relu'))\n",
    "    \n",
    "    model.add(keras.layers.Dense(400, activation='tanh'))\n",
    "    base_model = keras.models.load_model(\"base_model.h5\")\n",
    "    model.add(base_model.layers[1])\n",
    "    model.add(base_model.layers[2])\n",
    "    \n",
    "    model.add(keras.layers.Dense(units=352, activation='relu'))\n",
    "    model.add(keras.layers.Dense(units=352, activation='relu'))\n",
    "    model.add(keras.layers.Dense(16))\n",
    "    \n",
    "    model.compile(optimizer=keras.optimizers.Adam(learning_rate=1e-4),\n",
    "                loss='mae',\n",
    "                metrics=['accuracy'])\n",
    "    return model\n",
    "\n",
    "def train_reuse_model(X, y):\n",
    "    model = optimal_reuse_model()\n",
    "    # fit model\n",
    "    model.fit(X_train, y_train, verbose=0, epochs=4, validation_split=0.2)\n",
    "    # evaluate model on test set\n",
    "    mae = model.evaluate(X_test, y_test, verbose=0)\n",
    "    # store result\n",
    "    print(mae)\n",
    "    return model"
   ]
  },
  {
   "cell_type": "code",
   "execution_count": 51,
   "id": "7b4f43c9",
   "metadata": {
    "execution": {
     "iopub.execute_input": "2023-04-10T14:57:07.383782Z",
     "iopub.status.busy": "2023-04-10T14:57:07.382880Z",
     "iopub.status.idle": "2023-04-10T14:57:11.354386Z",
     "shell.execute_reply": "2023-04-10T14:57:11.353195Z"
    },
    "papermill": {
     "duration": 3.992754,
     "end_time": "2023-04-10T14:57:11.356852",
     "exception": false,
     "start_time": "2023-04-10T14:57:07.364098",
     "status": "completed"
    },
    "tags": []
   },
   "outputs": [
    {
     "name": "stdout",
     "output_type": "stream",
     "text": [
      "0\n",
      "0\n",
      "[5.713966369628906, 0.1355140209197998]\n"
     ]
    }
   ],
   "source": [
    "from sklearn.model_selection import train_test_split\n",
    "# prepare data\n",
    "X_train, X_test = train_test_split(knn_X, test_size=0.2, random_state=25)\n",
    "y_train, y_test = train_test_split(y_knn, test_size=0.2, random_state=25)\n",
    "\n",
    "print(knn_X.isna().sum().sum())\n",
    "print(y_knn.isna().sum().sum())\n",
    "\n",
    "reuse_model = train_reuse_model(X_train, y_train)"
   ]
  },
  {
   "cell_type": "code",
   "execution_count": 52,
   "id": "cc025e0e",
   "metadata": {
    "execution": {
     "iopub.execute_input": "2023-04-10T14:57:11.395239Z",
     "iopub.status.busy": "2023-04-10T14:57:11.394917Z",
     "iopub.status.idle": "2023-04-10T14:57:11.399481Z",
     "shell.execute_reply": "2023-04-10T14:57:11.398362Z"
    },
    "papermill": {
     "duration": 0.026493,
     "end_time": "2023-04-10T14:57:11.401913",
     "exception": false,
     "start_time": "2023-04-10T14:57:11.375420",
     "status": "completed"
    },
    "tags": []
   },
   "outputs": [],
   "source": [
    "# Let's compare the feature selection dataset\n",
    "\n",
    "# from sklearn.model_selection import train_test_split\n",
    "# prepare data\n",
    "# X_train, X_test = train_test_split(knn_X_select, test_size=0.2, random_state=25)\n",
    "# y_train, y_test = train_test_split(y_knn, test_size=0.2, random_state=25)\n",
    "\n",
    "# clinical_model = train_clinical_model(X_train, y_train)\n",
    "\n",
    "# reuse_model = train_reuse_model(X_train, y_train)"
   ]
  },
  {
   "cell_type": "markdown",
   "id": "1eb3f5f1",
   "metadata": {
    "papermill": {
     "duration": 0.017622,
     "end_time": "2023-04-10T14:57:11.437384",
     "exception": false,
     "start_time": "2023-04-10T14:57:11.419762",
     "status": "completed"
    },
    "tags": []
   },
   "source": [
    "Summary of results \n",
    "\n",
    "| Model | MAE | STD |\n",
    "| ----- | --- | --- |\n",
    "| Base Model | 3.883 | 0.285 |\n",
    "| Clinical Model | 5.736 | 0.136 |\n",
    "| Base+Clinical Reuse Model | 5.761 | 0.136 |\n",
    "\n",
    "Perhaps not surprisingly, the base model's supplemental data isn't really adding a whole lot to our overall efficacy."
   ]
  },
  {
   "cell_type": "markdown",
   "id": "50d674d5",
   "metadata": {
    "papermill": {
     "duration": 0.017815,
     "end_time": "2023-04-10T14:57:11.473332",
     "exception": false,
     "start_time": "2023-04-10T14:57:11.455517",
     "status": "completed"
    },
    "tags": []
   },
   "source": [
    "# Submit answers?\n",
    "\n",
    "Just for fun, I may submit answers from my model as a final flourish"
   ]
  },
  {
   "cell_type": "markdown",
   "id": "43778b53",
   "metadata": {
    "papermill": {
     "duration": 0.017721,
     "end_time": "2023-04-10T14:57:11.508823",
     "exception": false,
     "start_time": "2023-04-10T14:57:11.491102",
     "status": "completed"
    },
    "tags": []
   },
   "source": [
    "# Sources Used & Further Resources\n",
    "\n",
    "### Data processing & Feature Selection\n",
    " * https://www.kaggle.com/code/xaviernogueira/pre-processing-making-labels-and-imputation#Add-supplemental-clinical-data-to-the-main-clininical-data\n",
    " * https://shap.readthedocs.io/en/latest/example_notebooks/tabular_examples/model_agnostic/Multioutput%20Regression%20SHAP.html\n",
    " * https://www.kaggle.com/code/eikedehling/keras-nn-scaling-feature-selection-0-548\n",
    " * https://scikit-learn.org/stable/modules/feature_selection.html\n",
    "\n",
    "### Model reuse of base layers\n",
    " * https://stackoverflow.com/questions/69871972/how-to-reuse-the-layers-of-keras-functional-model\n",
    " * https://gist.github.com/auth/github?return_to=https%3A%2F%2Fgist.github.com%2Ftoluwajosh%2F036c0018668557e225e36cc3c4977f10\n",
    "\n",
    "### Predicting multiple outputs with one model\n",
    "* https://pub.towardsai.net/how-to-predict-multiple-variables-with-one-model-and-why-31e6a8efc09e\n",
    "* https://machinelearningmastery.com/deep-learning-models-for-multi-output-regression/\n",
    "\n",
    "### Hyperparameter tuning\n",
    "* https://www.tensorflow.org/tutorials/keras/keras_tuner\n",
    "* https://towardsdatascience.com/selecting-hyperparameter-values-with-sequential-human-in-the-loop-search-space-modification-766d272ed061\n",
    "    \n",
    "### Fixes to bugs\n",
    " * https://stackoverflow.com/a/64691642\n",
    " * https://www.tensorflow.org/tutorials/keras/keras_tuner\n",
    " * https://stackoverflow.com/a/38134049"
   ]
  }
 ],
 "metadata": {
  "kernelspec": {
   "display_name": "Python 3",
   "language": "python",
   "name": "python3"
  },
  "language_info": {
   "codemirror_mode": {
    "name": "ipython",
    "version": 3
   },
   "file_extension": ".py",
   "mimetype": "text/x-python",
   "name": "python",
   "nbconvert_exporter": "python",
   "pygments_lexer": "ipython3",
   "version": "3.7.12"
  },
  "papermill": {
   "default_parameters": {},
   "duration": 218.786384,
   "end_time": "2023-04-10T14:57:14.840202",
   "environment_variables": {},
   "exception": null,
   "input_path": "__notebook__.ipynb",
   "output_path": "__notebook__.ipynb",
   "parameters": {},
   "start_time": "2023-04-10T14:53:36.053818",
   "version": "2.4.0"
  }
 },
 "nbformat": 4,
 "nbformat_minor": 5
}
