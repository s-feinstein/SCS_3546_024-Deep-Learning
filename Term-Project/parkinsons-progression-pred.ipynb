{
 "cells": [
  {
   "cell_type": "markdown",
   "id": "4127dcf3",
   "metadata": {
    "papermill": {
     "duration": 0.004725,
     "end_time": "2023-04-05T23:31:11.734602",
     "exception": false,
     "start_time": "2023-04-05T23:31:11.729877",
     "status": "completed"
    },
    "tags": []
   },
   "source": [
    "# For each patient visit where a protein/peptide sample was taken you will estimate future UPDR scores: \n",
    " * ## for that visit (month 0)\n",
    " * ## for 6 months later\n",
    " * ## for 12 months later\n",
    " * ## for 24 months later\n",
    " \n",
    "Predictions for any visits that didn't ultimately take place are ignored."
   ]
  },
  {
   "cell_type": "markdown",
   "id": "df3893a1",
   "metadata": {
    "papermill": {
     "duration": 0.003217,
     "end_time": "2023-04-05T23:31:11.741675",
     "exception": false,
     "start_time": "2023-04-05T23:31:11.738458",
     "status": "completed"
    },
    "tags": []
   },
   "source": [
    "## This project has multiple fascinating features and challenges, including:\n",
    " - Reusing base layers of another model I also train\n",
    " - Multi-output models (16 outputs!)\n",
    "\n",
    "## Approach\n",
    "\n",
    " 1. **Ingest and format data**\n",
    " 2. **Pre-train a multi-output model using `supplemental_clinical_data.csv`**\n",
    " \n",
    " Since there is no protein/peptide information associated with the supplemental clinical data, we can use this to train a model on the typical progression of Parkinsons (as measured by UPDR scores). It will only predict scores given the time since initial visit. This will give us base layers that we can reuse when predicting progression based on proteins/peptides.\n",
    " 3. **Train a multi-output model using `train_clinical_data`**\n",
    " \n",
    " Our goal in both steps 2 and 3 is to train a single model that can predict UPDR scores at months 0, 6, 12, and 24. I'll use a multi-output variable approach because each UPDR score has 4 sections, predicting a total of 16 outputs!"
   ]
  },
  {
   "cell_type": "markdown",
   "id": "1d2c68c9",
   "metadata": {
    "papermill": {
     "duration": 0.003136,
     "end_time": "2023-04-05T23:31:11.748240",
     "exception": false,
     "start_time": "2023-04-05T23:31:11.745104",
     "status": "completed"
    },
    "tags": []
   },
   "source": [
    "## Data Ingestion"
   ]
  },
  {
   "cell_type": "code",
   "execution_count": 1,
   "id": "6807a718",
   "metadata": {
    "execution": {
     "iopub.execute_input": "2023-04-05T23:31:11.757975Z",
     "iopub.status.busy": "2023-04-05T23:31:11.757035Z",
     "iopub.status.idle": "2023-04-05T23:31:12.884607Z",
     "shell.execute_reply": "2023-04-05T23:31:12.883201Z"
    },
    "papermill": {
     "duration": 1.136738,
     "end_time": "2023-04-05T23:31:12.888387",
     "exception": false,
     "start_time": "2023-04-05T23:31:11.751649",
     "status": "completed"
    },
    "tags": []
   },
   "outputs": [
    {
     "name": "stdout",
     "output_type": "stream",
     "text": [
      "/kaggle/input/amp-parkinsons-disease-progression-prediction/train_proteins.csv\n",
      "/kaggle/input/amp-parkinsons-disease-progression-prediction/train_clinical_data.csv\n",
      "/kaggle/input/amp-parkinsons-disease-progression-prediction/public_timeseries_testing_util.py\n",
      "/kaggle/input/amp-parkinsons-disease-progression-prediction/supplemental_clinical_data.csv\n",
      "/kaggle/input/amp-parkinsons-disease-progression-prediction/train_peptides.csv\n",
      "/kaggle/input/amp-parkinsons-disease-progression-prediction/amp_pd_peptide/competition.cpython-37m-x86_64-linux-gnu.so\n",
      "/kaggle/input/amp-parkinsons-disease-progression-prediction/amp_pd_peptide/__init__.py\n",
      "/kaggle/input/amp-parkinsons-disease-progression-prediction/example_test_files/sample_submission.csv\n",
      "/kaggle/input/amp-parkinsons-disease-progression-prediction/example_test_files/test_proteins.csv\n",
      "/kaggle/input/amp-parkinsons-disease-progression-prediction/example_test_files/test_peptides.csv\n",
      "/kaggle/input/amp-parkinsons-disease-progression-prediction/example_test_files/test.csv\n"
     ]
    }
   ],
   "source": [
    "import numpy as np\n",
    "import pandas as pd\n",
    "import sklearn\n",
    "from pathlib import Path\n",
    "\n",
    "import os\n",
    "for dirname, _, filenames in os.walk('/kaggle/input'):\n",
    "    for filename in filenames:\n",
    "        print(os.path.join(dirname, filename))"
   ]
  },
  {
   "cell_type": "code",
   "execution_count": 2,
   "id": "6fc2298b",
   "metadata": {
    "execution": {
     "iopub.execute_input": "2023-04-05T23:31:12.899185Z",
     "iopub.status.busy": "2023-04-05T23:31:12.898714Z",
     "iopub.status.idle": "2023-04-05T23:31:12.965486Z",
     "shell.execute_reply": "2023-04-05T23:31:12.962975Z"
    },
    "papermill": {
     "duration": 0.076077,
     "end_time": "2023-04-05T23:31:12.968354",
     "exception": false,
     "start_time": "2023-04-05T23:31:12.892277",
     "status": "completed"
    },
    "tags": []
   },
   "outputs": [
    {
     "name": "stdout",
     "output_type": "stream",
     "text": [
      "(2615, 7)\n",
      "          patient_id  visit_month  updrs_1  updrs_2  updrs_3  updrs_4  \\\n",
      "visit_id                                                                \n",
      "55_0              55            0     10.0      6.0     15.0      NaN   \n",
      "55_3              55            3     10.0      7.0     25.0      NaN   \n",
      "55_6              55            6      8.0     10.0     34.0      NaN   \n",
      "55_9              55            9      8.0      9.0     30.0      0.0   \n",
      "55_12             55           12     10.0     10.0     41.0      0.0   \n",
      "55_18             55           18      7.0     13.0     38.0      0.0   \n",
      "55_24             55           24     16.0      9.0     49.0      0.0   \n",
      "55_30             55           30     14.0     13.0     49.0      0.0   \n",
      "55_36             55           36     17.0     18.0     51.0      0.0   \n",
      "55_42             55           42     12.0     20.0     41.0      0.0   \n",
      "\n",
      "         upd23b_clinical_state_on_medication  \n",
      "visit_id                                      \n",
      "55_0                                     NaN  \n",
      "55_3                                     NaN  \n",
      "55_6                                     NaN  \n",
      "55_9                                      On  \n",
      "55_12                                     On  \n",
      "55_18                                     On  \n",
      "55_24                                     On  \n",
      "55_30                                     On  \n",
      "55_36                                     On  \n",
      "55_42                                     On  \n",
      "(2223, 7)\n",
      "          patient_id  visit_month  updrs_1  updrs_2  updrs_3  updrs_4  \\\n",
      "visit_id                                                                \n",
      "35_0              35            0      5.0      3.0     16.0      0.0   \n",
      "35_36             35           36      6.0      4.0     20.0      0.0   \n",
      "75_0              75            0      4.0      6.0     26.0      0.0   \n",
      "75_36             75           36      1.0      8.0     38.0      0.0   \n",
      "155_0            155            0      NaN      NaN      0.0      NaN   \n",
      "337_0            337            0      5.0      7.0      6.0      0.0   \n",
      "337_36           337           36      8.0      7.0      8.0      0.0   \n",
      "527_0            527            0      6.0      2.0      9.0      0.0   \n",
      "527_36           527           36      2.0     18.0     22.0      0.0   \n",
      "557_0            557            0      5.0      6.0     22.0      0.0   \n",
      "\n",
      "         upd23b_clinical_state_on_medication  \n",
      "visit_id                                      \n",
      "35_0                                     NaN  \n",
      "35_36                                    NaN  \n",
      "75_0                                     NaN  \n",
      "75_36                                     On  \n",
      "155_0                                    NaN  \n",
      "337_0                                     On  \n",
      "337_36                                    On  \n",
      "527_0                                    NaN  \n",
      "527_36                                    On  \n",
      "557_0                                    NaN  \n",
      "\n",
      "Union of both clinical data sets:\n",
      "(4838, 7)\n"
     ]
    }
   ],
   "source": [
    "# Pull in all clinical data\n",
    "\n",
    "INPUTS_DIR = Path('/kaggle/input/amp-parkinsons-disease-progression-prediction/') \n",
    "\n",
    "# train_clinical_data.csv\n",
    "clinical_df = pd.read_csv(\n",
    "    INPUTS_DIR / 'train_clinical_data.csv',\n",
    "    index_col='visit_id',\n",
    ")\n",
    "print(clinical_df.shape)\n",
    "print(clinical_df.head(n=10))\n",
    "\n",
    "# supplemental_clinical_data.csv\n",
    "supp_clinical_df = pd.read_csv(\n",
    "    INPUTS_DIR / 'supplemental_clinical_data.csv',\n",
    "    index_col='visit_id',\n",
    ")\n",
    "print(supp_clinical_df.shape)\n",
    "print(supp_clinical_df.head(n=10))\n",
    "\n",
    "# concat both to a single dataframe\n",
    "all_clinical_df = pd.concat([clinical_df, supp_clinical_df])\n",
    "\n",
    "print(\"\\nUnion of both clinical data sets:\")\n",
    "print(all_clinical_df.shape)"
   ]
  },
  {
   "cell_type": "markdown",
   "id": "7d9ec145",
   "metadata": {
    "papermill": {
     "duration": 0.00348,
     "end_time": "2023-04-05T23:31:12.975648",
     "exception": false,
     "start_time": "2023-04-05T23:31:12.972168",
     "status": "completed"
    },
    "tags": []
   },
   "source": [
    "## Data Exploration"
   ]
  },
  {
   "cell_type": "code",
   "execution_count": 3,
   "id": "14115aac",
   "metadata": {
    "execution": {
     "iopub.execute_input": "2023-04-05T23:31:12.985412Z",
     "iopub.status.busy": "2023-04-05T23:31:12.984991Z",
     "iopub.status.idle": "2023-04-05T23:31:13.016222Z",
     "shell.execute_reply": "2023-04-05T23:31:13.014837Z"
    },
    "papermill": {
     "duration": 0.039587,
     "end_time": "2023-04-05T23:31:13.019197",
     "exception": false,
     "start_time": "2023-04-05T23:31:12.979610",
     "status": "completed"
    },
    "tags": []
   },
   "outputs": [
    {
     "data": {
      "text/plain": [
       "array([], dtype=int64)"
      ]
     },
     "execution_count": 3,
     "metadata": {},
     "output_type": "execute_result"
    }
   ],
   "source": [
    "# sort by patient id and month\n",
    "clinical_df = clinical_df.sort_values(\n",
    "    ['patient_id', 'visit_month'],\n",
    ")\n",
    "supp_clinical_df = supp_clinical_df.sort_values(\n",
    "    ['patient_id', 'visit_month'],\n",
    ")\n",
    "all_clinical_df = all_clinical_df.sort_values(\n",
    "    ['patient_id', 'visit_month'],\n",
    ")\n",
    "all_clinical_df.head()\n",
    "\n",
    "# get all unique patient ids (already sorted)\n",
    "clin_patient_ids = clinical_df['patient_id'].unique()\n",
    "supp_patient_ids = supp_clinical_df['patient_id'].unique()\n",
    "patient_ids = all_clinical_df['patient_id'].unique()\n",
    "\n",
    "# Verifying there are no supplemental patient ids that may have protein/peptide data\n",
    "np.intersect1d(clin_patient_ids, supp_patient_ids)\n",
    "\n"
   ]
  },
  {
   "cell_type": "markdown",
   "id": "b5ef7ab7",
   "metadata": {
    "papermill": {
     "duration": 0.003595,
     "end_time": "2023-04-05T23:31:13.026692",
     "exception": false,
     "start_time": "2023-04-05T23:31:13.023097",
     "status": "completed"
    },
    "tags": []
   },
   "source": [
    "## Data Processing\n",
    "This is (with only minor modifications) from [this work by Xavier R Nogueira](https://www.kaggle.com/code/xaviernogueira/pre-processing-making-labels-and-imputation#Add-supplemental-clinical-data-to-the-main-clininical-data) released under the [Apache 2.0](http://www.apache.org/licenses/LICENSE-2.0) open source license.\n",
    "\n",
    "The main change I made was to turn it into a factory pattern function, so that I could process the `train_clinical_data` and the `supplemental_clinical_data` separately. Since the `supplemental_clinical_data` doesn't have protein/peptide information, I don't think it should be grouped it in with the labeled data. \n",
    "\n",
    "Instead, I'll use the `supplemental_clinical_data` to pretrain the base layers of my multi-output model on typical Parkinsons Disease progression."
   ]
  },
  {
   "cell_type": "code",
   "execution_count": 4,
   "id": "5337b38f",
   "metadata": {
    "execution": {
     "iopub.execute_input": "2023-04-05T23:31:13.036970Z",
     "iopub.status.busy": "2023-04-05T23:31:13.036112Z",
     "iopub.status.idle": "2023-04-05T23:31:13.050543Z",
     "shell.execute_reply": "2023-04-05T23:31:13.049331Z"
    },
    "papermill": {
     "duration": 0.023217,
     "end_time": "2023-04-05T23:31:13.053729",
     "exception": false,
     "start_time": "2023-04-05T23:31:13.030512",
     "status": "completed"
    },
    "tags": []
   },
   "outputs": [],
   "source": [
    "def process_clinical_data(clinical_data, parquet_outfile_name):\n",
    "    # rename same visit columns\n",
    "    for updrs_col in [i for i in clinical_data.columns if 'updrs' in i]:\n",
    "        clinical_data = clinical_data.rename(\n",
    "            columns={updrs_col: updrs_col + '_plus_0_months'},\n",
    "        )\n",
    "    clinical_data.head()\n",
    "\n",
    "    # sort by patient id and month\n",
    "    clinical_data = clinical_data.sort_values(\n",
    "        ['patient_id', 'visit_month'],\n",
    "    )\n",
    "    clinical_data.head()\n",
    "\n",
    "    # get all unique patient ids (already sorted)\n",
    "    patient_ids = clinical_data['patient_id'].unique()\n",
    "\n",
    "    # get all unique visit_months and sort\n",
    "    months = clinical_data.visit_month.unique()\n",
    "    months.sort()\n",
    "    evenly_spaced_months = np.arange(months[0], months[-1] + 1)\n",
    "\n",
    "    # create a new multi index with all unique patient id evenly spaced months\n",
    "    multi_index = pd.MultiIndex.from_product(\n",
    "        [patient_ids, evenly_spaced_months],\n",
    "        names=['patient_id', 'visit_month'],\n",
    "    )\n",
    "    print(len(multi_index))\n",
    "\n",
    "    # convert into dataframe multiindex\n",
    "    multi_index = pd.DataFrame(\n",
    "        index=multi_index,\n",
    "    )\n",
    "\n",
    "    multi_index.head(n=5)\n",
    "\n",
    "    # join full clinical data\n",
    "    clinical_data = multi_index.join(\n",
    "        clinical_data.reset_index().set_index(['patient_id', 'visit_month']),\n",
    "        how='left',\n",
    "    )\n",
    "    clinical_data.head()\n",
    "\n",
    "    # shift data forward for our labels while grouping by patient_id\n",
    "    for col in [i for i in clinical_data.columns if 'plus_0_months' in i]:\n",
    "        clinical_data[col.replace('0', '6')] = clinical_data.groupby('patient_id')[col].shift(-6)\n",
    "        clinical_data[col.replace('0', '12')] = clinical_data.groupby('patient_id')[col].shift(-12)\n",
    "        clinical_data[col.replace('0', '24')] = clinical_data.groupby('patient_id')[col].shift(-24)\n",
    "    clinical_data.head()\n",
    "\n",
    "    # drop all rows where visit_id is NaN\n",
    "    clinical_data = clinical_data.loc[clinical_data.visit_id.notna()]\n",
    "\n",
    "    # reset index back to visit_id\n",
    "    clinical_data = (\n",
    "        clinical_data\n",
    "        .reset_index()\n",
    "        .set_index('visit_id')\n",
    "    )\n",
    "    clinical_data.head()\n",
    "    \n",
    "    # save labels data frame as a parquet file (without non labels columns)\n",
    "    clinical_data.drop(\n",
    "        columns=['patient_id', 'visit_month', 'upd23b_clinical_state_on_medication'],\n",
    "    ).to_parquet(\n",
    "        parquet_outfile_name,\n",
    "    )\n",
    "    \n",
    "    return clinical_data"
   ]
  },
  {
   "cell_type": "code",
   "execution_count": 5,
   "id": "f220e0d5",
   "metadata": {
    "execution": {
     "iopub.execute_input": "2023-04-05T23:31:13.063399Z",
     "iopub.status.busy": "2023-04-05T23:31:13.062988Z",
     "iopub.status.idle": "2023-04-05T23:31:13.303635Z",
     "shell.execute_reply": "2023-04-05T23:31:13.302130Z"
    },
    "papermill": {
     "duration": 0.249237,
     "end_time": "2023-04-05T23:31:13.306939",
     "exception": false,
     "start_time": "2023-04-05T23:31:13.057702",
     "status": "completed"
    },
    "tags": []
   },
   "outputs": [
    {
     "name": "stdout",
     "output_type": "stream",
     "text": [
      "27032\n",
      "28527\n"
     ]
    }
   ],
   "source": [
    "# Clinical data post-processing, saving labels to a parquet file\n",
    "clinical_df_pp = process_clinical_data(clinical_df, 'clinical_data_training_labels.parquet')\n",
    "\n",
    "# Supplemental clinical data post-processing, saving labels to a parquet file\n",
    "supp_clinical_df_pp = process_clinical_data(supp_clinical_df, 'supp_clinical_data_training_labels.parquet')"
   ]
  },
  {
   "cell_type": "markdown",
   "id": "09fbc7f2",
   "metadata": {
    "papermill": {
     "duration": 0.003967,
     "end_time": "2023-04-05T23:31:13.315020",
     "exception": false,
     "start_time": "2023-04-05T23:31:13.311053",
     "status": "completed"
    },
    "tags": []
   },
   "source": []
  },
  {
   "cell_type": "markdown",
   "id": "ba636558",
   "metadata": {
    "papermill": {
     "duration": 0.00362,
     "end_time": "2023-04-05T23:31:13.322617",
     "exception": false,
     "start_time": "2023-04-05T23:31:13.318997",
     "status": "completed"
    },
    "tags": []
   },
   "source": [
    "# Sources Used & Further Resources\n",
    "\n",
    "### Data processing\n",
    " * https://www.kaggle.com/code/xaviernogueira/pre-processing-making-labels-and-imputation#Add-supplemental-clinical-data-to-the-main-clininical-data\n",
    "\n",
    "### Model reuse of base layers\n",
    " * <Placeholder>\n",
    "\n",
    "### Predicting multiple outputs with one model\n",
    "* https://pub.towardsai.net/how-to-predict-multiple-variables-with-one-model-and-why-31e6a8efc09e\n",
    "* https://machinelearningmastery.com/deep-learning-models-for-multi-output-regression/"
   ]
  }
 ],
 "metadata": {
  "kernelspec": {
   "display_name": "Python 3",
   "language": "python",
   "name": "python3"
  },
  "language_info": {
   "codemirror_mode": {
    "name": "ipython",
    "version": 3
   },
   "file_extension": ".py",
   "mimetype": "text/x-python",
   "name": "python",
   "nbconvert_exporter": "python",
   "pygments_lexer": "ipython3",
   "version": "3.7.12"
  },
  "papermill": {
   "default_parameters": {},
   "duration": 13.85775,
   "end_time": "2023-04-05T23:31:14.050836",
   "environment_variables": {},
   "exception": null,
   "input_path": "__notebook__.ipynb",
   "output_path": "__notebook__.ipynb",
   "parameters": {},
   "start_time": "2023-04-05T23:31:00.193086",
   "version": "2.4.0"
  }
 },
 "nbformat": 4,
 "nbformat_minor": 5
}
